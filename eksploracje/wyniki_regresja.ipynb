{
 "cells": [
  {
   "cell_type": "code",
   "execution_count": 1,
   "metadata": {
    "collapsed": true
   },
   "outputs": [],
   "source": [
    "%matplotlib inline\n",
    "import pandas as pd\n",
    "import numpy as np\n",
    "import seaborn as sns\n",
    "import matplotlib.pyplot as plt\n",
    "import statsmodels.formula.api as smf"
   ]
  },
  {
   "cell_type": "code",
   "execution_count": 2,
   "metadata": {
    "collapsed": true
   },
   "outputs": [],
   "source": [
    "wyniki = pd.read_csv(\"../dane/przetworzone/sumy_laureaty_2014_znorm.csv\", low_memory=False)"
   ]
  },
  {
   "cell_type": "code",
   "execution_count": 3,
   "metadata": {
    "collapsed": true
   },
   "outputs": [],
   "source": [
    "szkoly = pd.read_csv(\"../dane/szkoly2014.csv\")"
   ]
  },
  {
   "cell_type": "code",
   "execution_count": 4,
   "metadata": {
    "collapsed": true
   },
   "outputs": [],
   "source": [
    "df = wyniki.merge(szkoly, on=\"id_szkoly\", how=\"left\")"
   ]
  },
  {
   "cell_type": "code",
   "execution_count": 5,
   "metadata": {
    "collapsed": false
   },
   "outputs": [
    {
     "data": {
      "text/plain": [
       "Index(['Unnamed: 0', 'id_szkoly', 'plec', 'rocznik', 'dysleksja',\n",
       "       'biologia_laureat', 'biologia_podstawowa', 'biologia_rozszerzona',\n",
       "       'chemia_laureat', 'chemia_podstawowa', 'chemia_rozszerzona',\n",
       "       'fizyka_laureat', 'fizyka_podstawowa', 'fizyka_rozszerzona',\n",
       "       'geografia_laureat', 'geografia_rozszerzona', 'geografia_podstawowa',\n",
       "       'historia_laureat', 'historia_podstawowa', 'historia_rozszerzona',\n",
       "       'informatyka_laureat', 'informatyka_rozszerzona', 'j_angielski_laureat',\n",
       "       'j_angielski_rozszerzona', 'j_polski_laureat', 'j_polski_rozszerzona',\n",
       "       'matematyka_laureat', 'matematyka_rozszerzona', 'WOS_laureat',\n",
       "       'WOS_rozszerzona', 'informatyka_podstawowa', 'j_angielski_podstawowa',\n",
       "       'j_polski_podstawowa', 'matematyka_podstawowa', 'WOS_podstawowa',\n",
       "       'typ_szkoly', 'publiczna', 'dla_doroslych', 'specjalna',\n",
       "       'przyszpitalna', 'artystyczna', 'rok', 'id_szkoly_oke', 'nazwa_szkoly',\n",
       "       'adres', 'miejscowosc', 'pna', 'poczta', 'wielkosc_miejscowosci',\n",
       "       'matura_miedzynarodowa', 'teryt_szkoly', 'wojewodztwo_szkoly',\n",
       "       'powiat_szkoly', 'gmina_szkoly', 'rodzaj_gminy'],\n",
       "      dtype='object')"
      ]
     },
     "execution_count": 5,
     "metadata": {},
     "output_type": "execute_result"
    }
   ],
   "source": [
    "df.columns"
   ]
  },
  {
   "cell_type": "code",
   "execution_count": 16,
   "metadata": {
    "collapsed": true
   },
   "outputs": [],
   "source": [
    "df[\"wielkosc_miejscowosci_log10\"] = np.log10(df[\"wielkosc_miejscowosci\"] + 1000)"
   ]
  },
  {
   "cell_type": "code",
   "execution_count": 17,
   "metadata": {
    "collapsed": false
   },
   "outputs": [
    {
     "data": {
      "text/plain": [
       "<matplotlib.axes._subplots.AxesSubplot at 0x114896b00>"
      ]
     },
     "execution_count": 17,
     "metadata": {},
     "output_type": "execute_result"
    },
    {
     "data": {
      "image/png": "[encoded data removed]",
      "text/plain": [
       "<matplotlib.figure.Figure at 0x114ffa6a0>"
      ]
     },
     "metadata": {},
     "output_type": "display_data"
    }
   ],
   "source": [
    "df[\"wielkosc_miejscowosci_log10\"].hist()"
   ]
  },
  {
   "cell_type": "code",
   "execution_count": 20,
   "metadata": {
    "collapsed": false
   },
   "outputs": [],
   "source": [
    "def wiek_uprosc(wiek):\n",
    "    if wiek <= 18:\n",
    "        return \"18m\"\n",
    "    elif wiek == 19:\n",
    "        return \"19\"\n",
    "    elif wiek == 20:\n",
    "        return \"20\"\n",
    "    else:\n",
    "        return \"21p\"\n",
    "    \n",
    "df['wiek_prosciej'] = (2014 - df.rocznik).apply(wiek_uprosc)"
   ]
  },
  {
   "cell_type": "code",
   "execution_count": 26,
   "metadata": {
    "collapsed": false
   },
   "outputs": [
    {
     "data": {
      "text/html": [
       "<table class=\"simpletable\">\n",
       "<caption>OLS Regression Results</caption>\n",
       "<tr>\n",
       "  <th>Dep. Variable:</th>    <td>j_polski_podstawowa</td> <th>  R-squared:         </th>  <td>   0.182</td>  \n",
       "</tr>\n",
       "<tr>\n",
       "  <th>Model:</th>                    <td>OLS</td>         <th>  Adj. R-squared:    </th>  <td>   0.182</td>  \n",
       "</tr>\n",
       "<tr>\n",
       "  <th>Method:</th>              <td>Least Squares</td>    <th>  F-statistic:       </th>  <td>   4760.</td>  \n",
       "</tr>\n",
       "<tr>\n",
       "  <th>Date:</th>              <td>Sat, 18 Jul 2015</td>   <th>  Prob (F-statistic):</th>   <td>  0.00</td>   \n",
       "</tr>\n",
       "<tr>\n",
       "  <th>Time:</th>                  <td>22:54:39</td>       <th>  Log-Likelihood:    </th> <td>-3.9462e+05</td>\n",
       "</tr>\n",
       "<tr>\n",
       "  <th>No. Observations:</th>       <td>300216</td>        <th>  AIC:               </th>  <td>7.893e+05</td> \n",
       "</tr>\n",
       "<tr>\n",
       "  <th>Df Residuals:</th>           <td>300201</td>        <th>  BIC:               </th>  <td>7.894e+05</td> \n",
       "</tr>\n",
       "<tr>\n",
       "  <th>Df Model:</th>               <td>    14</td>        <th>                     </th>      <td> </td>     \n",
       "</tr>\n",
       "<tr>\n",
       "  <th>Covariance Type:</th>       <td>nonrobust</td>      <th>                     </th>      <td> </td>     \n",
       "</tr>\n",
       "</table>\n",
       "<table class=\"simpletable\">\n",
       "<tr>\n",
       "                   <td></td>                     <th>coef</th>     <th>std err</th>      <th>t</th>      <th>P>|t|</th> <th>[95.0% Conf. Int.]</th> \n",
       "</tr>\n",
       "<tr>\n",
       "  <th>Intercept</th>                          <td>   -0.3049</td> <td>    0.030</td> <td>  -10.180</td> <td> 0.000</td> <td>   -0.364    -0.246</td>\n",
       "</tr>\n",
       "<tr>\n",
       "  <th>C(plec)[T.m]</th>                       <td>   -0.1615</td> <td>    0.003</td> <td>  -47.726</td> <td> 0.000</td> <td>   -0.168    -0.155</td>\n",
       "</tr>\n",
       "<tr>\n",
       "  <th>C(typ_szkoly)[T.LOU]</th>               <td>   -0.1794</td> <td>    0.032</td> <td>   -5.619</td> <td> 0.000</td> <td>   -0.242    -0.117</td>\n",
       "</tr>\n",
       "<tr>\n",
       "  <th>C(typ_szkoly)[T.LP]</th>                <td>   -0.7163</td> <td>    0.013</td> <td>  -55.595</td> <td> 0.000</td> <td>   -0.742    -0.691</td>\n",
       "</tr>\n",
       "<tr>\n",
       "  <th>C(typ_szkoly)[T.T]</th>                 <td>   -0.1581</td> <td>    0.009</td> <td>  -18.228</td> <td> 0.000</td> <td>   -0.175    -0.141</td>\n",
       "</tr>\n",
       "<tr>\n",
       "  <th>C(typ_szkoly)[T.TU]</th>                <td>   -0.3915</td> <td>    0.025</td> <td>  -15.547</td> <td> 0.000</td> <td>   -0.441    -0.342</td>\n",
       "</tr>\n",
       "<tr>\n",
       "  <th>C(rodzaj_gminy)[T.miejska]</th>         <td>    0.1299</td> <td>    0.009</td> <td>   15.221</td> <td> 0.000</td> <td>    0.113     0.147</td>\n",
       "</tr>\n",
       "<tr>\n",
       "  <th>C(rodzaj_gminy)[T.miejsko-wiejska]</th> <td>    0.1627</td> <td>    0.012</td> <td>   13.981</td> <td> 0.000</td> <td>    0.140     0.186</td>\n",
       "</tr>\n",
       "<tr>\n",
       "  <th>C(rodzaj_gminy)[T.wiejska]</th>         <td>    0.0573</td> <td>    0.015</td> <td>    3.713</td> <td> 0.000</td> <td>    0.027     0.088</td>\n",
       "</tr>\n",
       "<tr>\n",
       "  <th>C(wiek_prosciej)[T.19]</th>             <td>   -0.3429</td> <td>    0.019</td> <td>  -18.175</td> <td> 0.000</td> <td>   -0.380    -0.306</td>\n",
       "</tr>\n",
       "<tr>\n",
       "  <th>C(wiek_prosciej)[T.20]</th>             <td>   -0.8078</td> <td>    0.021</td> <td>  -39.405</td> <td> 0.000</td> <td>   -0.848    -0.768</td>\n",
       "</tr>\n",
       "<tr>\n",
       "  <th>C(wiek_prosciej)[T.21p]</th>            <td>   -1.0960</td> <td>    0.021</td> <td>  -51.501</td> <td> 0.000</td> <td>   -1.138    -1.054</td>\n",
       "</tr>\n",
       "<tr>\n",
       "  <th>publiczna[T.True]</th>                  <td>    0.2352</td> <td>    0.008</td> <td>   30.223</td> <td> 0.000</td> <td>    0.220     0.250</td>\n",
       "</tr>\n",
       "<tr>\n",
       "  <th>dla_doroslych[T.True]</th>              <td>   -0.2992</td> <td>    0.012</td> <td>  -24.991</td> <td> 0.000</td> <td>   -0.323    -0.276</td>\n",
       "</tr>\n",
       "<tr>\n",
       "  <th>wielkosc_miejscowosci_log10</th>        <td>    0.1439</td> <td>    0.003</td> <td>   43.376</td> <td> 0.000</td> <td>    0.137     0.150</td>\n",
       "</tr>\n",
       "</table>\n",
       "<table class=\"simpletable\">\n",
       "<tr>\n",
       "  <th>Omnibus:</th>       <td>224.999</td> <th>  Durbin-Watson:     </th> <td>   1.988</td>\n",
       "</tr>\n",
       "<tr>\n",
       "  <th>Prob(Omnibus):</th> <td> 0.000</td>  <th>  Jarque-Bera (JB):  </th> <td> 225.497</td>\n",
       "</tr>\n",
       "<tr>\n",
       "  <th>Skew:</th>          <td> 0.067</td>  <th>  Prob(JB):          </th> <td>1.08e-49</td>\n",
       "</tr>\n",
       "<tr>\n",
       "  <th>Kurtosis:</th>      <td> 2.998</td>  <th>  Cond. No.          </th> <td>    129.</td>\n",
       "</tr>\n",
       "</table>"
      ],
      "text/plain": [
       "<class 'statsmodels.iolib.summary.Summary'>\n",
       "\"\"\"\n",
       "                             OLS Regression Results                            \n",
       "===============================================================================\n",
       "Dep. Variable:     j_polski_podstawowa   R-squared:                       0.182\n",
       "Model:                             OLS   Adj. R-squared:                  0.182\n",
       "Method:                  Least Squares   F-statistic:                     4760.\n",
       "Date:                 Sat, 18 Jul 2015   Prob (F-statistic):               0.00\n",
       "Time:                         22:54:39   Log-Likelihood:            -3.9462e+05\n",
       "No. Observations:               300216   AIC:                         7.893e+05\n",
       "Df Residuals:                   300201   BIC:                         7.894e+05\n",
       "Df Model:                           14                                         \n",
       "Covariance Type:             nonrobust                                         \n",
       "======================================================================================================\n",
       "                                         coef    std err          t      P>|t|      [95.0% Conf. Int.]\n",
       "------------------------------------------------------------------------------------------------------\n",
       "Intercept                             -0.3049      0.030    -10.180      0.000        -0.364    -0.246\n",
       "C(plec)[T.m]                          -0.1615      0.003    -47.726      0.000        -0.168    -0.155\n",
       "C(typ_szkoly)[T.LOU]                  -0.1794      0.032     -5.619      0.000        -0.242    -0.117\n",
       "C(typ_szkoly)[T.LP]                   -0.7163      0.013    -55.595      0.000        -0.742    -0.691\n",
       "C(typ_szkoly)[T.T]                    -0.1581      0.009    -18.228      0.000        -0.175    -0.141\n",
       "C(typ_szkoly)[T.TU]                   -0.3915      0.025    -15.547      0.000        -0.441    -0.342\n",
       "C(rodzaj_gminy)[T.miejska]             0.1299      0.009     15.221      0.000         0.113     0.147\n",
       "C(rodzaj_gminy)[T.miejsko-wiejska]     0.1627      0.012     13.981      0.000         0.140     0.186\n",
       "C(rodzaj_gminy)[T.wiejska]             0.0573      0.015      3.713      0.000         0.027     0.088\n",
       "C(wiek_prosciej)[T.19]                -0.3429      0.019    -18.175      0.000        -0.380    -0.306\n",
       "C(wiek_prosciej)[T.20]                -0.8078      0.021    -39.405      0.000        -0.848    -0.768\n",
       "C(wiek_prosciej)[T.21p]               -1.0960      0.021    -51.501      0.000        -1.138    -1.054\n",
       "publiczna[T.True]                      0.2352      0.008     30.223      0.000         0.220     0.250\n",
       "dla_doroslych[T.True]                 -0.2992      0.012    -24.991      0.000        -0.323    -0.276\n",
       "wielkosc_miejscowosci_log10            0.1439      0.003     43.376      0.000         0.137     0.150\n",
       "==============================================================================\n",
       "Omnibus:                      224.999   Durbin-Watson:                   1.988\n",
       "Prob(Omnibus):                  0.000   Jarque-Bera (JB):              225.497\n",
       "Skew:                           0.067   Prob(JB):                     1.08e-49\n",
       "Kurtosis:                       2.998   Cond. No.                         129.\n",
       "==============================================================================\n",
       "\n",
       "Warnings:\n",
       "[1] Standard Errors assume that the covariance matrix of the errors is correctly specified.\n",
       "\"\"\""
      ]
     },
     "execution_count": 26,
     "metadata": {},
     "output_type": "execute_result"
    }
   ],
   "source": [
    "formula = \"\"\"j_polski_podstawowa ~ C(plec) + C(typ_szkoly) + C(rodzaj_gminy)\n",
    "             + wielkosc_miejscowosci_log10 + C(wiek_prosciej) + publiczna + dla_doroslych\"\"\"\n",
    "reg = smf.ols(formula, data=df).fit()\n",
    "reg.summary()"
   ]
  },
  {
   "cell_type": "code",
   "execution_count": 29,
   "metadata": {
    "collapsed": false,
    "scrolled": true
   },
   "outputs": [
    {
     "data": {
      "text/plain": [
       "<matplotlib.axes._subplots.AxesSubplot at 0x11bb28cf8>"
      ]
     },
     "execution_count": 29,
     "metadata": {},
     "output_type": "execute_result"
    },
    {
     "data": {
      "image/png": "[encoded data removed]",
      "text/plain": [
       "<matplotlib.figure.Figure at 0x11baf2278>"
      ]
     },
     "metadata": {},
     "output_type": "display_data"
    }
   ],
   "source": [
    "reg.params.order().plot(kind=\"barh\")"
   ]
  },
  {
   "cell_type": "code",
   "execution_count": 25,
   "metadata": {
    "collapsed": false,
    "scrolled": false
   },
   "outputs": [
    {
     "data": {
      "text/html": [
       "<table class=\"simpletable\">\n",
       "<caption>OLS Regression Results</caption>\n",
       "<tr>\n",
       "  <th>Dep. Variable:</th>    <td>matematyka_podstawowa</td> <th>  R-squared:         </th>  <td>   0.286</td>  \n",
       "</tr>\n",
       "<tr>\n",
       "  <th>Model:</th>                     <td>OLS</td>          <th>  Adj. R-squared:    </th>  <td>   0.286</td>  \n",
       "</tr>\n",
       "<tr>\n",
       "  <th>Method:</th>               <td>Least Squares</td>     <th>  F-statistic:       </th>  <td>   8508.</td>  \n",
       "</tr>\n",
       "<tr>\n",
       "  <th>Date:</th>               <td>Sat, 18 Jul 2015</td>    <th>  Prob (F-statistic):</th>   <td>  0.00</td>   \n",
       "</tr>\n",
       "<tr>\n",
       "  <th>Time:</th>                   <td>18:46:31</td>        <th>  Log-Likelihood:    </th> <td>-3.6832e+05</td>\n",
       "</tr>\n",
       "<tr>\n",
       "  <th>No. Observations:</th>        <td>297366</td>         <th>  AIC:               </th>  <td>7.367e+05</td> \n",
       "</tr>\n",
       "<tr>\n",
       "  <th>Df Residuals:</th>            <td>297351</td>         <th>  BIC:               </th>  <td>7.368e+05</td> \n",
       "</tr>\n",
       "<tr>\n",
       "  <th>Df Model:</th>                <td>    14</td>         <th>                     </th>      <td> </td>     \n",
       "</tr>\n",
       "<tr>\n",
       "  <th>Covariance Type:</th>        <td>nonrobust</td>       <th>                     </th>      <td> </td>     \n",
       "</tr>\n",
       "</table>\n",
       "<table class=\"simpletable\">\n",
       "<tr>\n",
       "                   <td></td>                     <th>coef</th>     <th>std err</th>      <th>t</th>      <th>P>|t|</th> <th>[95.0% Conf. Int.]</th> \n",
       "</tr>\n",
       "<tr>\n",
       "  <th>Intercept</th>                          <td>   -0.0947</td> <td>    0.028</td> <td>   -3.394</td> <td> 0.001</td> <td>   -0.149    -0.040</td>\n",
       "</tr>\n",
       "<tr>\n",
       "  <th>C(plec)[T.m]</th>                       <td>    0.2017</td> <td>    0.003</td> <td>   63.995</td> <td> 0.000</td> <td>    0.195     0.208</td>\n",
       "</tr>\n",
       "<tr>\n",
       "  <th>C(typ_szkoly)[T.LOU]</th>               <td>-1.341e-16</td> <td> 1.25e-16</td> <td>   -1.070</td> <td> 0.285</td> <td> -3.8e-16  1.12e-16</td>\n",
       "</tr>\n",
       "<tr>\n",
       "  <th>C(typ_szkoly)[T.LP]</th>                <td>   -0.8807</td> <td>    0.012</td> <td>  -72.953</td> <td> 0.000</td> <td>   -0.904    -0.857</td>\n",
       "</tr>\n",
       "<tr>\n",
       "  <th>C(typ_szkoly)[T.T]</th>                 <td>   -0.1211</td> <td>    0.008</td> <td>  -15.008</td> <td> 0.000</td> <td>   -0.137    -0.105</td>\n",
       "</tr>\n",
       "<tr>\n",
       "  <th>C(typ_szkoly)[T.TU]</th>                <td>   -0.2745</td> <td>    0.081</td> <td>   -3.369</td> <td> 0.001</td> <td>   -0.434    -0.115</td>\n",
       "</tr>\n",
       "<tr>\n",
       "  <th>C(rodzaj_gminy)[T.miejska]</th>         <td>   -0.0012</td> <td>    0.008</td> <td>   -0.153</td> <td> 0.878</td> <td>   -0.017     0.014</td>\n",
       "</tr>\n",
       "<tr>\n",
       "  <th>C(rodzaj_gminy)[T.miejsko-wiejska]</th> <td>   -0.0067</td> <td>    0.011</td> <td>   -0.618</td> <td> 0.536</td> <td>   -0.028     0.015</td>\n",
       "</tr>\n",
       "<tr>\n",
       "  <th>C(rodzaj_gminy)[T.wiejska]</th>         <td>   -0.1641</td> <td>    0.014</td> <td>  -11.404</td> <td> 0.000</td> <td>   -0.192    -0.136</td>\n",
       "</tr>\n",
       "<tr>\n",
       "  <th>C(wiek_prosciej)[T.19]</th>             <td>   -0.4505</td> <td>    0.018</td> <td>  -25.725</td> <td> 0.000</td> <td>   -0.485    -0.416</td>\n",
       "</tr>\n",
       "<tr>\n",
       "  <th>C(wiek_prosciej)[T.20]</th>             <td>   -1.1762</td> <td>    0.019</td> <td>  -61.791</td> <td> 0.000</td> <td>   -1.214    -1.139</td>\n",
       "</tr>\n",
       "<tr>\n",
       "  <th>C(wiek_prosciej)[T.21p]</th>            <td>   -1.5774</td> <td>    0.020</td> <td>  -79.775</td> <td> 0.000</td> <td>   -1.616    -1.539</td>\n",
       "</tr>\n",
       "<tr>\n",
       "  <th>publiczna[T.True]</th>                  <td>    0.2570</td> <td>    0.007</td> <td>   34.813</td> <td> 0.000</td> <td>    0.243     0.272</td>\n",
       "</tr>\n",
       "<tr>\n",
       "  <th>dla_doroslych[T.True]</th>              <td>   -0.3891</td> <td>    0.011</td> <td>  -34.758</td> <td> 0.000</td> <td>   -0.411    -0.367</td>\n",
       "</tr>\n",
       "<tr>\n",
       "  <th>specjalna[T.True]</th>                  <td>   -0.2785</td> <td>    0.051</td> <td>   -5.513</td> <td> 0.000</td> <td>   -0.378    -0.179</td>\n",
       "</tr>\n",
       "<tr>\n",
       "  <th>wielkosc_miejscowosci_log10</th>        <td>    0.1359</td> <td>    0.003</td> <td>   44.025</td> <td> 0.000</td> <td>    0.130     0.142</td>\n",
       "</tr>\n",
       "</table>\n",
       "<table class=\"simpletable\">\n",
       "<tr>\n",
       "  <th>Omnibus:</th>       <td>631.810</td> <th>  Durbin-Watson:     </th> <td>   1.984</td> \n",
       "</tr>\n",
       "<tr>\n",
       "  <th>Prob(Omnibus):</th> <td> 0.000</td>  <th>  Jarque-Bera (JB):  </th> <td> 737.950</td> \n",
       "</tr>\n",
       "<tr>\n",
       "  <th>Skew:</th>          <td>-0.056</td>  <th>  Prob(JB):          </th> <td>5.70e-161</td>\n",
       "</tr>\n",
       "<tr>\n",
       "  <th>Kurtosis:</th>      <td> 3.216</td>  <th>  Cond. No.          </th> <td>6.87e+17</td> \n",
       "</tr>\n",
       "</table>"
      ],
      "text/plain": [
       "<class 'statsmodels.iolib.summary.Summary'>\n",
       "\"\"\"\n",
       "                              OLS Regression Results                             \n",
       "=================================================================================\n",
       "Dep. Variable:     matematyka_podstawowa   R-squared:                       0.286\n",
       "Model:                               OLS   Adj. R-squared:                  0.286\n",
       "Method:                    Least Squares   F-statistic:                     8508.\n",
       "Date:                   Sat, 18 Jul 2015   Prob (F-statistic):               0.00\n",
       "Time:                           18:46:31   Log-Likelihood:            -3.6832e+05\n",
       "No. Observations:                 297366   AIC:                         7.367e+05\n",
       "Df Residuals:                     297351   BIC:                         7.368e+05\n",
       "Df Model:                             14                                         \n",
       "Covariance Type:               nonrobust                                         \n",
       "======================================================================================================\n",
       "                                         coef    std err          t      P>|t|      [95.0% Conf. Int.]\n",
       "------------------------------------------------------------------------------------------------------\n",
       "Intercept                             -0.0947      0.028     -3.394      0.001        -0.149    -0.040\n",
       "C(plec)[T.m]                           0.2017      0.003     63.995      0.000         0.195     0.208\n",
       "C(typ_szkoly)[T.LOU]               -1.341e-16   1.25e-16     -1.070      0.285      -3.8e-16  1.12e-16\n",
       "C(typ_szkoly)[T.LP]                   -0.8807      0.012    -72.953      0.000        -0.904    -0.857\n",
       "C(typ_szkoly)[T.T]                    -0.1211      0.008    -15.008      0.000        -0.137    -0.105\n",
       "C(typ_szkoly)[T.TU]                   -0.2745      0.081     -3.369      0.001        -0.434    -0.115\n",
       "C(rodzaj_gminy)[T.miejska]            -0.0012      0.008     -0.153      0.878        -0.017     0.014\n",
       "C(rodzaj_gminy)[T.miejsko-wiejska]    -0.0067      0.011     -0.618      0.536        -0.028     0.015\n",
       "C(rodzaj_gminy)[T.wiejska]            -0.1641      0.014    -11.404      0.000        -0.192    -0.136\n",
       "C(wiek_prosciej)[T.19]                -0.4505      0.018    -25.725      0.000        -0.485    -0.416\n",
       "C(wiek_prosciej)[T.20]                -1.1762      0.019    -61.791      0.000        -1.214    -1.139\n",
       "C(wiek_prosciej)[T.21p]               -1.5774      0.020    -79.775      0.000        -1.616    -1.539\n",
       "publiczna[T.True]                      0.2570      0.007     34.813      0.000         0.243     0.272\n",
       "dla_doroslych[T.True]                 -0.3891      0.011    -34.758      0.000        -0.411    -0.367\n",
       "specjalna[T.True]                     -0.2785      0.051     -5.513      0.000        -0.378    -0.179\n",
       "wielkosc_miejscowosci_log10            0.1359      0.003     44.025      0.000         0.130     0.142\n",
       "==============================================================================\n",
       "Omnibus:                      631.810   Durbin-Watson:                   1.984\n",
       "Prob(Omnibus):                  0.000   Jarque-Bera (JB):              737.950\n",
       "Skew:                          -0.056   Prob(JB):                    5.70e-161\n",
       "Kurtosis:                       3.216   Cond. No.                     6.87e+17\n",
       "==============================================================================\n",
       "\n",
       "Warnings:\n",
       "[1] Standard Errors assume that the covariance matrix of the errors is correctly specified.\n",
       "[2] The smallest eigenvalue is 1.65e-29. This might indicate that there are\n",
       "strong multicollinearity problems or that the design matrix is singular.\n",
       "\"\"\""
      ]
     },
     "execution_count": 25,
     "metadata": {},
     "output_type": "execute_result"
    }
   ],
   "source": [
    "formula = \"\"\"matematyka_podstawowa ~ C(plec) + C(typ_szkoly) + C(rodzaj_gminy)\n",
    "             + wielkosc_miejscowosci_log10 + C(wiek_prosciej) + publiczna + dla_doroslych\n",
    "             + specjalna\"\"\"\n",
    "reg = smf.ols(formula, data=df).fit()\n",
    "reg.summary()"
   ]
  },
  {
   "cell_type": "code",
   "execution_count": null,
   "metadata": {
    "collapsed": true
   },
   "outputs": [],
   "source": []
  },
  {
   "cell_type": "code",
   "execution_count": null,
   "metadata": {
    "collapsed": true
   },
   "outputs": [],
   "source": []
  }
 ],
 "metadata": {
  "kernelspec": {
   "display_name": "Python 3",
   "language": "python",
   "name": "python3"
  },
  "language_info": {
   "codemirror_mode": {
    "name": "ipython",
    "version": 3
   },
   "file_extension": ".py",
   "mimetype": "text/x-python",
   "name": "python",
   "nbconvert_exporter": "python",
   "pygments_lexer": "ipython3",
   "version": "3.4.3"
  }
 },
 "nbformat": 4,
 "nbformat_minor": 0
}

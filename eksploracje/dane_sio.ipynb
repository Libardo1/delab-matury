{
 "cells": [
  {
   "cell_type": "code",
   "execution_count": 1,
   "metadata": {
    "collapsed": true
   },
   "outputs": [],
   "source": [
    "import pandas as pd\n",
    "%matplotlib inline"
   ]
  },
  {
   "cell_type": "code",
   "execution_count": 25,
   "metadata": {
    "collapsed": false
   },
   "outputs": [],
   "source": [
    "df = pd.read_excel(\"../dane/sio/00014.xls\", skiprows=6, header=None)"
   ]
  },
  {
   "cell_type": "code",
   "execution_count": 27,
   "metadata": {
    "collapsed": false
   },
   "outputs": [
    {
     "data": {
      "text/plain": [
       "'Liceum ogólnokształcące'"
      ]
     },
     "execution_count": 27,
     "metadata": {},
     "output_type": "execute_result"
    }
   ],
   "source": [
    "df.loc[0,0]"
   ]
  },
  {
   "cell_type": "code",
   "execution_count": 41,
   "metadata": {
    "collapsed": false
   },
   "outputs": [],
   "source": [
    "df.columns = df.loc[1].fillna(method='pad') + df.loc[2].fillna(\"\").apply(lambda x: \": \" + x if len(x) > 0 else x)"
   ]
  },
  {
   "cell_type": "code",
   "execution_count": 44,
   "metadata": {
    "collapsed": false
   },
   "outputs": [],
   "source": [
    "df = df.drop([0, 1, 2, 3])"
   ]
  },
  {
   "cell_type": "code",
   "execution_count": 45,
   "metadata": {
    "collapsed": false
   },
   "outputs": [
    {
     "data": {
      "text/html": [
       "<div style=\"max-height:1000px;max-width:1500px;overflow:auto;\">\n",
       "<table border=\"1\" class=\"dataframe\">\n",
       "  <thead>\n",
       "    <tr style=\"text-align: right;\">\n",
       "      <th></th>\n",
       "      <th>Lp.</th>\n",
       "      <th>Położenie: woj</th>\n",
       "      <th>Położenie: pow</th>\n",
       "      <th>Położenie: gm</th>\n",
       "      <th>Miejscowość</th>\n",
       "      <th>Klasa wielk.</th>\n",
       "      <th>Typ</th>\n",
       "      <th>Złożoność</th>\n",
       "      <th>Nazwa szkoły, placówki</th>\n",
       "      <th>Patron</th>\n",
       "      <th>...</th>\n",
       "      <th>Indetyfikacja organu rejestrującego: pow</th>\n",
       "      <th>Indetyfikacja organu rejestrującego: gm</th>\n",
       "      <th>Regon</th>\n",
       "      <th>Uczniowie, wychow., słuchacze</th>\n",
       "      <th>w tym: dziewczęta</th>\n",
       "      <th>w tym: w oddziałach przedszk.</th>\n",
       "      <th>Oddziały</th>\n",
       "      <th>Nauczyciele: pełnozatrudnieni</th>\n",
       "      <th>Nauczyciele: niepełnozat (stos.pracy)</th>\n",
       "      <th>Nauczyciele: niepełnozat (w etatach)</th>\n",
       "    </tr>\n",
       "  </thead>\n",
       "  <tbody>\n",
       "    <tr>\n",
       "      <th>4</th>\n",
       "      <td>1</td>\n",
       "      <td>02</td>\n",
       "      <td>01</td>\n",
       "      <td>01</td>\n",
       "      <td>Bolesławiec</td>\n",
       "      <td>2</td>\n",
       "      <td>00014</td>\n",
       "      <td>002</td>\n",
       "      <td>I LICEUM OGÓLNOKSZTAŁCĄCE</td>\n",
       "      <td>WŁADYSŁAW BRONIEWSKI</td>\n",
       "      <td>...</td>\n",
       "      <td>NaN</td>\n",
       "      <td>NaN</td>\n",
       "      <td>23118408200000</td>\n",
       "      <td>460</td>\n",
       "      <td>281</td>\n",
       "      <td>0</td>\n",
       "      <td>16</td>\n",
       "      <td>0</td>\n",
       "      <td>0</td>\n",
       "      <td>0</td>\n",
       "    </tr>\n",
       "    <tr>\n",
       "      <th>5</th>\n",
       "      <td>2</td>\n",
       "      <td>02</td>\n",
       "      <td>01</td>\n",
       "      <td>01</td>\n",
       "      <td>Bolesławiec</td>\n",
       "      <td>2</td>\n",
       "      <td>00014</td>\n",
       "      <td>001</td>\n",
       "      <td>II Liceum Ogólnokształcące im. Janusza Korczak...</td>\n",
       "      <td>Janusz Korczak</td>\n",
       "      <td>...</td>\n",
       "      <td>NaN</td>\n",
       "      <td>NaN</td>\n",
       "      <td>23053199500000</td>\n",
       "      <td>455</td>\n",
       "      <td>290</td>\n",
       "      <td>0</td>\n",
       "      <td>15</td>\n",
       "      <td>28</td>\n",
       "      <td>8</td>\n",
       "      <td>5.04</td>\n",
       "    </tr>\n",
       "    <tr>\n",
       "      <th>6</th>\n",
       "      <td>3</td>\n",
       "      <td>02</td>\n",
       "      <td>01</td>\n",
       "      <td>01</td>\n",
       "      <td>Bolesławiec</td>\n",
       "      <td>2</td>\n",
       "      <td>00014</td>\n",
       "      <td>002</td>\n",
       "      <td>III Liceum Ogólnokształcące w Bolesławcu</td>\n",
       "      <td>NaN</td>\n",
       "      <td>...</td>\n",
       "      <td>NaN</td>\n",
       "      <td>NaN</td>\n",
       "      <td>23118325000000</td>\n",
       "      <td>0</td>\n",
       "      <td>0</td>\n",
       "      <td>0</td>\n",
       "      <td>0</td>\n",
       "      <td>0</td>\n",
       "      <td>0</td>\n",
       "      <td>0</td>\n",
       "    </tr>\n",
       "    <tr>\n",
       "      <th>7</th>\n",
       "      <td>4</td>\n",
       "      <td>02</td>\n",
       "      <td>01</td>\n",
       "      <td>01</td>\n",
       "      <td>Bolesławiec</td>\n",
       "      <td>2</td>\n",
       "      <td>00014</td>\n",
       "      <td>002</td>\n",
       "      <td>IV Liceum Ogólnokształcące w Bolesławcu</td>\n",
       "      <td>NaN</td>\n",
       "      <td>...</td>\n",
       "      <td>NaN</td>\n",
       "      <td>NaN</td>\n",
       "      <td>23118352700000</td>\n",
       "      <td>0</td>\n",
       "      <td>0</td>\n",
       "      <td>0</td>\n",
       "      <td>0</td>\n",
       "      <td>0</td>\n",
       "      <td>0</td>\n",
       "      <td>0</td>\n",
       "    </tr>\n",
       "    <tr>\n",
       "      <th>8</th>\n",
       "      <td>5</td>\n",
       "      <td>02</td>\n",
       "      <td>01</td>\n",
       "      <td>01</td>\n",
       "      <td>Bolesławiec</td>\n",
       "      <td>2</td>\n",
       "      <td>00014</td>\n",
       "      <td>002</td>\n",
       "      <td>Liceum Ogólnokształcące dla Dorosłych</td>\n",
       "      <td>major Henryk Sucharski</td>\n",
       "      <td>...</td>\n",
       "      <td>NaN</td>\n",
       "      <td>NaN</td>\n",
       "      <td>02194979400000</td>\n",
       "      <td>15</td>\n",
       "      <td>10</td>\n",
       "      <td>0</td>\n",
       "      <td>1</td>\n",
       "      <td>0</td>\n",
       "      <td>0</td>\n",
       "      <td>0</td>\n",
       "    </tr>\n",
       "  </tbody>\n",
       "</table>\n",
       "<p>5 rows × 40 columns</p>\n",
       "</div>"
      ],
      "text/plain": [
       "  Lp. Położenie: woj Położenie: pow Położenie: gm  Miejscowość Klasa wielk.  \\\n",
       "4   1             02             01            01  Bolesławiec            2   \n",
       "5   2             02             01            01  Bolesławiec            2   \n",
       "6   3             02             01            01  Bolesławiec            2   \n",
       "7   4             02             01            01  Bolesławiec            2   \n",
       "8   5             02             01            01  Bolesławiec            2   \n",
       "\n",
       "     Typ Złożoność                             Nazwa szkoły, placówki  \\\n",
       "4  00014       002                          I LICEUM OGÓLNOKSZTAŁCĄCE   \n",
       "5  00014       001  II Liceum Ogólnokształcące im. Janusza Korczak...   \n",
       "6  00014       002           III Liceum Ogólnokształcące w Bolesławcu   \n",
       "7  00014       002            IV Liceum Ogólnokształcące w Bolesławcu   \n",
       "8  00014       002              Liceum Ogólnokształcące dla Dorosłych   \n",
       "\n",
       "                   Patron                 ...                   \\\n",
       "4    WŁADYSŁAW BRONIEWSKI                 ...                    \n",
       "5          Janusz Korczak                 ...                    \n",
       "6                     NaN                 ...                    \n",
       "7                     NaN                 ...                    \n",
       "8  major Henryk Sucharski                 ...                    \n",
       "\n",
       "  Indetyfikacja organu rejestrującego: pow  \\\n",
       "4                                      NaN   \n",
       "5                                      NaN   \n",
       "6                                      NaN   \n",
       "7                                      NaN   \n",
       "8                                      NaN   \n",
       "\n",
       "  Indetyfikacja organu rejestrującego: gm           Regon  \\\n",
       "4                                     NaN  23118408200000   \n",
       "5                                     NaN  23053199500000   \n",
       "6                                     NaN  23118325000000   \n",
       "7                                     NaN  23118352700000   \n",
       "8                                     NaN  02194979400000   \n",
       "\n",
       "  Uczniowie, wychow., słuchacze w tym: dziewczęta  \\\n",
       "4                           460               281   \n",
       "5                           455               290   \n",
       "6                             0                 0   \n",
       "7                             0                 0   \n",
       "8                            15                10   \n",
       "\n",
       "  w tym: w oddziałach przedszk. Oddziały Nauczyciele: pełnozatrudnieni  \\\n",
       "4                             0       16                             0   \n",
       "5                             0       15                            28   \n",
       "6                             0        0                             0   \n",
       "7                             0        0                             0   \n",
       "8                             0        1                             0   \n",
       "\n",
       "  Nauczyciele: niepełnozat (stos.pracy) Nauczyciele: niepełnozat (w etatach)  \n",
       "4                                     0                                    0  \n",
       "5                                     8                                 5.04  \n",
       "6                                     0                                    0  \n",
       "7                                     0                                    0  \n",
       "8                                     0                                    0  \n",
       "\n",
       "[5 rows x 40 columns]"
      ]
     },
     "execution_count": 45,
     "metadata": {},
     "output_type": "execute_result"
    }
   ],
   "source": [
    "df.head()"
   ]
  },
  {
   "cell_type": "code",
   "execution_count": 46,
   "metadata": {
    "collapsed": false
   },
   "outputs": [
    {
     "data": {
      "text/plain": [
       "Index(['Lp.', 'Położenie: woj', 'Położenie: pow', 'Położenie: gm', 'Miejscowość', 'Klasa wielk.', 'Typ', 'Złożoność', 'Nazwa szkoły, placówki', 'Patron', 'Ulica', 'Nr domu', 'Kod poczt.', 'Poczta', 'Telefon', 'Fax', 'WWW', 'Publiczność', 'Kateg. uczniów', 'Spec. szkoły', 'Związ. organiz.', 'Identyfikacja organu prowadzącego: Kod', 'Identyfikacja organu prowadzącego: Nazwa', 'Identyfikacja organu prowadzącego: woj', 'Identyfikacja organu prowadzącego: pow', 'Identyfikacja organu prowadzącego: gm', 'Identyfikacja organu prowadzącego: typ gminy', 'Indetyfikacja organu rejestrującego: Kod', 'Indetyfikacja organu rejestrującego: Nazwa', 'Indetyfikacja organu rejestrującego: woj', 'Indetyfikacja organu rejestrującego: pow', 'Indetyfikacja organu rejestrującego: gm', 'Regon', 'Uczniowie, wychow., słuchacze', 'w tym: dziewczęta', 'w tym: w oddziałach przedszk.', 'Oddziały', 'Nauczyciele: pełnozatrudnieni', 'Nauczyciele: niepełnozat (stos.pracy)', 'Nauczyciele: niepełnozat (w etatach)'], dtype='object')"
      ]
     },
     "execution_count": 46,
     "metadata": {},
     "output_type": "execute_result"
    }
   ],
   "source": [
    "df.columns"
   ]
  },
  {
   "cell_type": "code",
   "execution_count": 47,
   "metadata": {
    "collapsed": false
   },
   "outputs": [
    {
     "data": {
      "text/html": [
       "<div style=\"max-height:1000px;max-width:1500px;overflow:auto;\">\n",
       "<table border=\"1\" class=\"dataframe\">\n",
       "  <thead>\n",
       "    <tr style=\"text-align: right;\">\n",
       "      <th></th>\n",
       "      <th>Lp.</th>\n",
       "      <th>Położenie: woj</th>\n",
       "      <th>Położenie: pow</th>\n",
       "      <th>Położenie: gm</th>\n",
       "      <th>Miejscowość</th>\n",
       "      <th>Klasa wielk.</th>\n",
       "      <th>Typ</th>\n",
       "      <th>Złożoność</th>\n",
       "      <th>Nazwa szkoły, placówki</th>\n",
       "      <th>Patron</th>\n",
       "      <th>...</th>\n",
       "      <th>Indetyfikacja organu rejestrującego: pow</th>\n",
       "      <th>Indetyfikacja organu rejestrującego: gm</th>\n",
       "      <th>Regon</th>\n",
       "      <th>Uczniowie, wychow., słuchacze</th>\n",
       "      <th>w tym: dziewczęta</th>\n",
       "      <th>w tym: w oddziałach przedszk.</th>\n",
       "      <th>Oddziały</th>\n",
       "      <th>Nauczyciele: pełnozatrudnieni</th>\n",
       "      <th>Nauczyciele: niepełnozat (stos.pracy)</th>\n",
       "      <th>Nauczyciele: niepełnozat (w etatach)</th>\n",
       "    </tr>\n",
       "  </thead>\n",
       "  <tbody>\n",
       "  </tbody>\n",
       "</table>\n",
       "<p>0 rows × 40 columns</p>\n",
       "</div>"
      ],
      "text/plain": [
       "Empty DataFrame\n",
       "Columns: [Lp., Położenie: woj, Położenie: pow, Położenie: gm, Miejscowość, Klasa wielk., Typ, Złożoność, Nazwa szkoły, placówki, Patron, Ulica, Nr domu, Kod poczt., Poczta, Telefon, Fax, WWW, Publiczność, Kateg. uczniów, Spec. szkoły, Związ. organiz., Identyfikacja organu prowadzącego: Kod, Identyfikacja organu prowadzącego: Nazwa, Identyfikacja organu prowadzącego: woj, Identyfikacja organu prowadzącego: pow, Identyfikacja organu prowadzącego: gm, Identyfikacja organu prowadzącego: typ gminy, Indetyfikacja organu rejestrującego: Kod, Indetyfikacja organu rejestrującego: Nazwa, Indetyfikacja organu rejestrującego: woj, Indetyfikacja organu rejestrującego: pow, Indetyfikacja organu rejestrującego: gm, Regon, Uczniowie, wychow., słuchacze, w tym: dziewczęta, w tym: w oddziałach przedszk., Oddziały, Nauczyciele: pełnozatrudnieni, Nauczyciele: niepełnozat (stos.pracy), Nauczyciele: niepełnozat (w etatach)]\n",
       "Index: []\n",
       "\n",
       "[0 rows x 40 columns]"
      ]
     },
     "execution_count": 47,
     "metadata": {},
     "output_type": "execute_result"
    }
   ],
   "source": [
    "df[df['Położenie: gm'] == \"Bielsko-Biała\"]"
   ]
  },
  {
   "cell_type": "code",
   "execution_count": null,
   "metadata": {
    "collapsed": true
   },
   "outputs": [],
   "source": []
  }
 ],
 "metadata": {
  "kernelspec": {
   "display_name": "Python 3",
   "language": "python",
   "name": "python3"
  },
  "language_info": {
   "codemirror_mode": {
    "name": "ipython",
    "version": 3
   },
   "file_extension": ".py",
   "mimetype": "text/x-python",
   "name": "python",
   "nbconvert_exporter": "python",
   "pygments_lexer": "ipython3",
   "version": "3.4.1"
  }
 },
 "nbformat": 4,
 "nbformat_minor": 0
}

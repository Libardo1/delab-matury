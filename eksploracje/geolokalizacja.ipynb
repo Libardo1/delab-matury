{
 "cells": [
  {
   "cell_type": "code",
   "execution_count": 2,
   "metadata": {
    "collapsed": true
   },
   "outputs": [],
   "source": [
    "import pandas as pd\n",
    "import requests"
   ]
  },
  {
   "cell_type": "code",
   "execution_count": 4,
   "metadata": {
    "collapsed": false
   },
   "outputs": [],
   "source": [
    "df = pd.read_csv(\"../dane/szkoly2014.csv\", index_col='id_szkoly')"
   ]
  },
  {
   "cell_type": "code",
   "execution_count": 5,
   "metadata": {
    "collapsed": true
   },
   "outputs": [],
   "source": [
    "df = df[df['typ_szkoly'].isin(['LO', 'LOU', 'T', 'TU', 'LP'])]"
   ]
  },
  {
   "cell_type": "code",
   "execution_count": 7,
   "metadata": {
    "collapsed": false
   },
   "outputs": [
    {
     "data": {
      "text/plain": [
       "Index(['typ_szkoly', 'publiczna', 'dla_doroslych', 'specjalna', 'przyszpitalna', 'artystyczna', 'rok', 'id_szkoly_oke', 'nazwa_szkoly', 'adres', 'miejscowosc', 'pna', 'poczta', 'wielkosc_miejscowosci', 'matura_miedzynarodowa', 'teryt_szkoly', 'wojewodztwo_szkoly', 'powiat_szkoly', 'gmina_szkoly', 'rodzaj_gminy'], dtype='object')"
      ]
     },
     "execution_count": 7,
     "metadata": {},
     "output_type": "execute_result"
    }
   ],
   "source": [
    "df.columns"
   ]
  },
  {
   "cell_type": "code",
   "execution_count": 10,
   "metadata": {
    "collapsed": true
   },
   "outputs": [],
   "source": [
    "df = df.loc[:, ['adres', 'miejscowosc', 'pna', 'poczta', 'wojewodztwo_szkoly', 'powiat_szkoly', 'gmina_szkoly']]"
   ]
  },
  {
   "cell_type": "code",
   "execution_count": 11,
   "metadata": {
    "collapsed": false
   },
   "outputs": [
    {
     "data": {
      "text/html": [
       "<div style=\"max-height:1000px;max-width:1500px;overflow:auto;\">\n",
       "<table border=\"1\" class=\"dataframe\">\n",
       "  <thead>\n",
       "    <tr style=\"text-align: right;\">\n",
       "      <th></th>\n",
       "      <th>adres</th>\n",
       "      <th>miejscowosc</th>\n",
       "      <th>pna</th>\n",
       "      <th>poczta</th>\n",
       "      <th>wojewodztwo_szkoly</th>\n",
       "      <th>powiat_szkoly</th>\n",
       "      <th>gmina_szkoly</th>\n",
       "    </tr>\n",
       "    <tr>\n",
       "      <th>id_szkoly</th>\n",
       "      <th></th>\n",
       "      <th></th>\n",
       "      <th></th>\n",
       "      <th></th>\n",
       "      <th></th>\n",
       "      <th></th>\n",
       "      <th></th>\n",
       "    </tr>\n",
       "  </thead>\n",
       "  <tbody>\n",
       "    <tr>\n",
       "      <th>25302</th>\n",
       "      <td>Obrońców Tobruku 40</td>\n",
       "      <td>Warszawa</td>\n",
       "      <td>01-494</td>\n",
       "      <td>Warszawa</td>\n",
       "      <td>mazowieckie</td>\n",
       "      <td>Warszawa</td>\n",
       "      <td>Bemowo</td>\n",
       "    </tr>\n",
       "    <tr>\n",
       "      <th>25300</th>\n",
       "      <td>Obrońców Tobruku 40</td>\n",
       "      <td>Warszawa</td>\n",
       "      <td>01-494</td>\n",
       "      <td>Warszawa</td>\n",
       "      <td>mazowieckie</td>\n",
       "      <td>Warszawa</td>\n",
       "      <td>Bemowo</td>\n",
       "    </tr>\n",
       "    <tr>\n",
       "      <th>25298</th>\n",
       "      <td>Anieli Krzywoń 3</td>\n",
       "      <td>Warszawa</td>\n",
       "      <td>01-391</td>\n",
       "      <td>Warszawa</td>\n",
       "      <td>mazowieckie</td>\n",
       "      <td>Warszawa</td>\n",
       "      <td>Bemowo</td>\n",
       "    </tr>\n",
       "    <tr>\n",
       "      <th>25499</th>\n",
       "      <td>Powązkowska 90</td>\n",
       "      <td>Warszawa</td>\n",
       "      <td>01-728</td>\n",
       "      <td>Warszawa</td>\n",
       "      <td>mazowieckie</td>\n",
       "      <td>Warszawa</td>\n",
       "      <td>Bemowo</td>\n",
       "    </tr>\n",
       "    <tr>\n",
       "      <th>76995</th>\n",
       "      <td>Strumykowa 21</td>\n",
       "      <td>Warszawa</td>\n",
       "      <td>03-138</td>\n",
       "      <td>Warszawa</td>\n",
       "      <td>mazowieckie</td>\n",
       "      <td>Warszawa</td>\n",
       "      <td>Białołęka</td>\n",
       "    </tr>\n",
       "  </tbody>\n",
       "</table>\n",
       "</div>"
      ],
      "text/plain": [
       "                         adres miejscowosc     pna    poczta  \\\n",
       "id_szkoly                                                      \n",
       "25302      Obrońców Tobruku 40    Warszawa  01-494  Warszawa   \n",
       "25300      Obrońców Tobruku 40    Warszawa  01-494  Warszawa   \n",
       "25298         Anieli Krzywoń 3    Warszawa  01-391  Warszawa   \n",
       "25499           Powązkowska 90    Warszawa  01-728  Warszawa   \n",
       "76995            Strumykowa 21    Warszawa  03-138  Warszawa   \n",
       "\n",
       "          wojewodztwo_szkoly powiat_szkoly gmina_szkoly  \n",
       "id_szkoly                                                \n",
       "25302            mazowieckie      Warszawa       Bemowo  \n",
       "25300            mazowieckie      Warszawa       Bemowo  \n",
       "25298            mazowieckie      Warszawa       Bemowo  \n",
       "25499            mazowieckie      Warszawa       Bemowo  \n",
       "76995            mazowieckie      Warszawa    Białołęka  "
      ]
     },
     "execution_count": 11,
     "metadata": {},
     "output_type": "execute_result"
    }
   ],
   "source": [
    "df.head()"
   ]
  },
  {
   "cell_type": "code",
   "execution_count": 15,
   "metadata": {
    "collapsed": true
   },
   "outputs": [],
   "source": [
    "params = {\"address\": \"ul. Łęgowa 28, 43-300 Bielsko-Biała\",\n",
    "          \"sensor\": \"false\", \"language\": \"pl\"}\n",
    "r = requests.get(\"http://maps.googleapis.com/maps/api/geocode/json\",\n",
    "                 params=params)"
   ]
  },
  {
   "cell_type": "code",
   "execution_count": 14,
   "metadata": {
    "collapsed": false
   },
   "outputs": [
    {
     "data": {
      "text/plain": [
       "{'results': [{'address_components': [{'long_name': '28',\n",
       "     'short_name': '28',\n",
       "     'types': ['street_number']},\n",
       "    {'long_name': 'Łęgowa', 'short_name': 'Łęgowa', 'types': ['route']},\n",
       "    {'long_name': 'Bielsko-Biała',\n",
       "     'short_name': 'Bielsko-Biała',\n",
       "     'types': ['locality', 'political']},\n",
       "    {'long_name': 'Bielsko-Biała',\n",
       "     'short_name': 'Bielsko-Biała',\n",
       "     'types': ['administrative_area_level_2', 'political']},\n",
       "    {'long_name': 'śląskie',\n",
       "     'short_name': 'śląskie',\n",
       "     'types': ['administrative_area_level_1', 'political']},\n",
       "    {'long_name': 'Poland',\n",
       "     'short_name': 'PL',\n",
       "     'types': ['country', 'political']},\n",
       "    {'long_name': '43',\n",
       "     'short_name': '43',\n",
       "     'types': ['postal_code_prefix', 'postal_code']}],\n",
       "   'formatted_address': 'Łęgowa 28, Bielsko-Biała, Poland',\n",
       "   'geometry': {'location': {'lat': 49.7972222, 'lng': 19.068669},\n",
       "    'location_type': 'ROOFTOP',\n",
       "    'viewport': {'northeast': {'lat': 49.7985711802915,\n",
       "      'lng': 19.0700179802915},\n",
       "     'southwest': {'lat': 49.7958732197085, 'lng': 19.0673200197085}}},\n",
       "   'partial_match': True,\n",
       "   'place_id': 'ChIJYSf48KOfFkcRDmIHzXXF2Ig',\n",
       "   'types': ['street_address']}],\n",
       " 'status': 'OK'}"
      ]
     },
     "execution_count": 14,
     "metadata": {},
     "output_type": "execute_result"
    }
   ],
   "source": [
    "r.json()"
   ]
  }
 ],
 "metadata": {
  "kernelspec": {
   "display_name": "Python 3",
   "language": "python",
   "name": "python3"
  },
  "language_info": {
   "codemirror_mode": {
    "name": "ipython",
    "version": 3
   },
   "file_extension": ".py",
   "mimetype": "text/x-python",
   "name": "python",
   "nbconvert_exporter": "python",
   "pygments_lexer": "ipython3",
   "version": "3.4.1"
  }
 },
 "nbformat": 4,
 "nbformat_minor": 0
}

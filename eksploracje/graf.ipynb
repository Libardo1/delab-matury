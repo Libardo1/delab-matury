{
 "cells": [
  {
   "cell_type": "code",
   "execution_count": 18,
   "metadata": {
    "collapsed": true
   },
   "outputs": [],
   "source": [
    "%matplotlib inline\n",
    "import pandas as pd\n",
    "import numpy as np\n",
    "import json"
   ]
  },
  {
   "cell_type": "code",
   "execution_count": 31,
   "metadata": {
    "collapsed": true
   },
   "outputs": [],
   "source": [
    "wyniki = pd.read_csv(\"../dane/przetworzone/sumy_laureaty_2014.csv\", low_memory=False)"
   ]
  },
  {
   "cell_type": "code",
   "execution_count": 32,
   "metadata": {
    "collapsed": false
   },
   "outputs": [
    {
     "data": {
      "text/html": [
       "<div>\n",
       "<table border=\"1\" class=\"dataframe\">\n",
       "  <thead>\n",
       "    <tr style=\"text-align: right;\">\n",
       "      <th></th>\n",
       "      <th>Unnamed: 0</th>\n",
       "      <th>id_szkoly</th>\n",
       "      <th>plec</th>\n",
       "      <th>rocznik</th>\n",
       "      <th>dysleksja</th>\n",
       "      <th>biologia_laureat</th>\n",
       "      <th>biologia_podstawowa</th>\n",
       "      <th>biologia_rozszerzona</th>\n",
       "      <th>chemia_laureat</th>\n",
       "      <th>chemia_podstawowa</th>\n",
       "      <th>...</th>\n",
       "      <th>j_polski_rozszerzona</th>\n",
       "      <th>matematyka_laureat</th>\n",
       "      <th>matematyka_rozszerzona</th>\n",
       "      <th>WOS_laureat</th>\n",
       "      <th>WOS_rozszerzona</th>\n",
       "      <th>informatyka_podstawowa</th>\n",
       "      <th>j_angielski_podstawowa</th>\n",
       "      <th>j_polski_podstawowa</th>\n",
       "      <th>matematyka_podstawowa</th>\n",
       "      <th>WOS_podstawowa</th>\n",
       "    </tr>\n",
       "  </thead>\n",
       "  <tbody>\n",
       "    <tr>\n",
       "      <th>0</th>\n",
       "      <td>2353129</td>\n",
       "      <td>24097</td>\n",
       "      <td>k</td>\n",
       "      <td>1995</td>\n",
       "      <td>False</td>\n",
       "      <td>NaN</td>\n",
       "      <td>NaN</td>\n",
       "      <td>NaN</td>\n",
       "      <td>NaN</td>\n",
       "      <td>NaN</td>\n",
       "      <td>...</td>\n",
       "      <td>NaN</td>\n",
       "      <td>NaN</td>\n",
       "      <td>NaN</td>\n",
       "      <td>NaN</td>\n",
       "      <td>NaN</td>\n",
       "      <td>NaN</td>\n",
       "      <td>NaN</td>\n",
       "      <td>25</td>\n",
       "      <td>4</td>\n",
       "      <td>NaN</td>\n",
       "    </tr>\n",
       "    <tr>\n",
       "      <th>1</th>\n",
       "      <td>17283699</td>\n",
       "      <td>72837</td>\n",
       "      <td>k</td>\n",
       "      <td>NaN</td>\n",
       "      <td>False</td>\n",
       "      <td>NaN</td>\n",
       "      <td>NaN</td>\n",
       "      <td>NaN</td>\n",
       "      <td>NaN</td>\n",
       "      <td>NaN</td>\n",
       "      <td>...</td>\n",
       "      <td>NaN</td>\n",
       "      <td>NaN</td>\n",
       "      <td>NaN</td>\n",
       "      <td>NaN</td>\n",
       "      <td>NaN</td>\n",
       "      <td>NaN</td>\n",
       "      <td>NaN</td>\n",
       "      <td>10</td>\n",
       "      <td>6</td>\n",
       "      <td>NaN</td>\n",
       "    </tr>\n",
       "    <tr>\n",
       "      <th>2</th>\n",
       "      <td>2347442</td>\n",
       "      <td>24111</td>\n",
       "      <td>k</td>\n",
       "      <td>1995</td>\n",
       "      <td>False</td>\n",
       "      <td>NaN</td>\n",
       "      <td>NaN</td>\n",
       "      <td>NaN</td>\n",
       "      <td>NaN</td>\n",
       "      <td>NaN</td>\n",
       "      <td>...</td>\n",
       "      <td>NaN</td>\n",
       "      <td>NaN</td>\n",
       "      <td>NaN</td>\n",
       "      <td>NaN</td>\n",
       "      <td>NaN</td>\n",
       "      <td>NaN</td>\n",
       "      <td>11</td>\n",
       "      <td>15</td>\n",
       "      <td>3</td>\n",
       "      <td>NaN</td>\n",
       "    </tr>\n",
       "    <tr>\n",
       "      <th>3</th>\n",
       "      <td>1939422</td>\n",
       "      <td>21795</td>\n",
       "      <td>k</td>\n",
       "      <td>1994</td>\n",
       "      <td>False</td>\n",
       "      <td>NaN</td>\n",
       "      <td>NaN</td>\n",
       "      <td>NaN</td>\n",
       "      <td>NaN</td>\n",
       "      <td>NaN</td>\n",
       "      <td>...</td>\n",
       "      <td>NaN</td>\n",
       "      <td>NaN</td>\n",
       "      <td>NaN</td>\n",
       "      <td>NaN</td>\n",
       "      <td>NaN</td>\n",
       "      <td>NaN</td>\n",
       "      <td>NaN</td>\n",
       "      <td>6</td>\n",
       "      <td>4</td>\n",
       "      <td>NaN</td>\n",
       "    </tr>\n",
       "    <tr>\n",
       "      <th>4</th>\n",
       "      <td>2359723</td>\n",
       "      <td>25664</td>\n",
       "      <td>k</td>\n",
       "      <td>1995</td>\n",
       "      <td>False</td>\n",
       "      <td>NaN</td>\n",
       "      <td>NaN</td>\n",
       "      <td>NaN</td>\n",
       "      <td>NaN</td>\n",
       "      <td>NaN</td>\n",
       "      <td>...</td>\n",
       "      <td>NaN</td>\n",
       "      <td>NaN</td>\n",
       "      <td>NaN</td>\n",
       "      <td>NaN</td>\n",
       "      <td>NaN</td>\n",
       "      <td>NaN</td>\n",
       "      <td>15</td>\n",
       "      <td>39</td>\n",
       "      <td>13</td>\n",
       "      <td>NaN</td>\n",
       "    </tr>\n",
       "  </tbody>\n",
       "</table>\n",
       "<p>5 rows × 35 columns</p>\n",
       "</div>"
      ],
      "text/plain": [
       "   Unnamed: 0  id_szkoly plec  rocznik dysleksja biologia_laureat  \\\n",
       "0     2353129      24097    k     1995     False              NaN   \n",
       "1    17283699      72837    k      NaN     False              NaN   \n",
       "2     2347442      24111    k     1995     False              NaN   \n",
       "3     1939422      21795    k     1994     False              NaN   \n",
       "4     2359723      25664    k     1995     False              NaN   \n",
       "\n",
       "   biologia_podstawowa  biologia_rozszerzona chemia_laureat  \\\n",
       "0                  NaN                   NaN            NaN   \n",
       "1                  NaN                   NaN            NaN   \n",
       "2                  NaN                   NaN            NaN   \n",
       "3                  NaN                   NaN            NaN   \n",
       "4                  NaN                   NaN            NaN   \n",
       "\n",
       "   chemia_podstawowa       ...        j_polski_rozszerzona matematyka_laureat  \\\n",
       "0                NaN       ...                         NaN                NaN   \n",
       "1                NaN       ...                         NaN                NaN   \n",
       "2                NaN       ...                         NaN                NaN   \n",
       "3                NaN       ...                         NaN                NaN   \n",
       "4                NaN       ...                         NaN                NaN   \n",
       "\n",
       "   matematyka_rozszerzona  WOS_laureat WOS_rozszerzona  \\\n",
       "0                     NaN          NaN             NaN   \n",
       "1                     NaN          NaN             NaN   \n",
       "2                     NaN          NaN             NaN   \n",
       "3                     NaN          NaN             NaN   \n",
       "4                     NaN          NaN             NaN   \n",
       "\n",
       "   informatyka_podstawowa  j_angielski_podstawowa j_polski_podstawowa  \\\n",
       "0                     NaN                     NaN                  25   \n",
       "1                     NaN                     NaN                  10   \n",
       "2                     NaN                      11                  15   \n",
       "3                     NaN                     NaN                   6   \n",
       "4                     NaN                      15                  39   \n",
       "\n",
       "   matematyka_podstawowa  WOS_podstawowa  \n",
       "0                      4             NaN  \n",
       "1                      6             NaN  \n",
       "2                      3             NaN  \n",
       "3                      4             NaN  \n",
       "4                     13             NaN  \n",
       "\n",
       "[5 rows x 35 columns]"
      ]
     },
     "execution_count": 32,
     "metadata": {},
     "output_type": "execute_result"
    }
   ],
   "source": [
    "wyniki.head()"
   ]
  },
  {
   "cell_type": "code",
   "execution_count": 30,
   "metadata": {
    "collapsed": true
   },
   "outputs": [],
   "source": [
    "szkoly = pd.read_csv(\"../dane/szkoly2014.csv\")"
   ]
  },
  {
   "cell_type": "code",
   "execution_count": 33,
   "metadata": {
    "collapsed": false
   },
   "outputs": [
    {
     "data": {
      "text/html": [
       "<div>\n",
       "<table border=\"1\" class=\"dataframe\">\n",
       "  <thead>\n",
       "    <tr style=\"text-align: right;\">\n",
       "      <th></th>\n",
       "      <th>id_szkoly</th>\n",
       "      <th>typ_szkoly</th>\n",
       "      <th>publiczna</th>\n",
       "      <th>dla_doroslych</th>\n",
       "      <th>specjalna</th>\n",
       "      <th>przyszpitalna</th>\n",
       "      <th>artystyczna</th>\n",
       "      <th>rok</th>\n",
       "      <th>id_szkoly_oke</th>\n",
       "      <th>nazwa_szkoly</th>\n",
       "      <th>...</th>\n",
       "      <th>miejscowosc</th>\n",
       "      <th>pna</th>\n",
       "      <th>poczta</th>\n",
       "      <th>wielkosc_miejscowosci</th>\n",
       "      <th>matura_miedzynarodowa</th>\n",
       "      <th>teryt_szkoly</th>\n",
       "      <th>wojewodztwo_szkoly</th>\n",
       "      <th>powiat_szkoly</th>\n",
       "      <th>gmina_szkoly</th>\n",
       "      <th>rodzaj_gminy</th>\n",
       "    </tr>\n",
       "  </thead>\n",
       "  <tbody>\n",
       "    <tr>\n",
       "      <th>0</th>\n",
       "      <td>25302</td>\n",
       "      <td>LO</td>\n",
       "      <td>False</td>\n",
       "      <td>True</td>\n",
       "      <td>False</td>\n",
       "      <td>False</td>\n",
       "      <td>NaN</td>\n",
       "      <td>2014</td>\n",
       "      <td>146502-0810Z</td>\n",
       "      <td>Liceum Ogólnokształcące dla Dorosłych nr 48 MGM</td>\n",
       "      <td>...</td>\n",
       "      <td>Warszawa</td>\n",
       "      <td>01-494</td>\n",
       "      <td>Warszawa</td>\n",
       "      <td>1724404</td>\n",
       "      <td>False</td>\n",
       "      <td>146502</td>\n",
       "      <td>mazowieckie</td>\n",
       "      <td>Warszawa</td>\n",
       "      <td>Bemowo</td>\n",
       "      <td>dzielnica m.st. Warszawy</td>\n",
       "    </tr>\n",
       "    <tr>\n",
       "      <th>1</th>\n",
       "      <td>25300</td>\n",
       "      <td>LO</td>\n",
       "      <td>False</td>\n",
       "      <td>False</td>\n",
       "      <td>False</td>\n",
       "      <td>False</td>\n",
       "      <td>NaN</td>\n",
       "      <td>2014</td>\n",
       "      <td>146502-0610L</td>\n",
       "      <td>Sportowe Liceum Ogólnokształcące nr 67 MGM</td>\n",
       "      <td>...</td>\n",
       "      <td>Warszawa</td>\n",
       "      <td>01-494</td>\n",
       "      <td>Warszawa</td>\n",
       "      <td>1724404</td>\n",
       "      <td>False</td>\n",
       "      <td>146502</td>\n",
       "      <td>mazowieckie</td>\n",
       "      <td>Warszawa</td>\n",
       "      <td>Bemowo</td>\n",
       "      <td>dzielnica m.st. Warszawy</td>\n",
       "    </tr>\n",
       "    <tr>\n",
       "      <th>2</th>\n",
       "      <td>25298</td>\n",
       "      <td>LO</td>\n",
       "      <td>True</td>\n",
       "      <td>False</td>\n",
       "      <td>False</td>\n",
       "      <td>False</td>\n",
       "      <td>NaN</td>\n",
       "      <td>2014</td>\n",
       "      <td>146502-01104</td>\n",
       "      <td>LXXVIII Liceum Ogólnokształcące im. Marii Pawl...</td>\n",
       "      <td>...</td>\n",
       "      <td>Warszawa</td>\n",
       "      <td>01-391</td>\n",
       "      <td>Warszawa</td>\n",
       "      <td>1724404</td>\n",
       "      <td>False</td>\n",
       "      <td>146502</td>\n",
       "      <td>mazowieckie</td>\n",
       "      <td>Warszawa</td>\n",
       "      <td>Bemowo</td>\n",
       "      <td>dzielnica m.st. Warszawy</td>\n",
       "    </tr>\n",
       "    <tr>\n",
       "      <th>3</th>\n",
       "      <td>25499</td>\n",
       "      <td>LO</td>\n",
       "      <td>False</td>\n",
       "      <td>False</td>\n",
       "      <td>False</td>\n",
       "      <td>False</td>\n",
       "      <td>NaN</td>\n",
       "      <td>2014</td>\n",
       "      <td>146502-04107</td>\n",
       "      <td>Liceum Ogólnokształcące Niepubliczne nr 29 im....</td>\n",
       "      <td>...</td>\n",
       "      <td>Warszawa</td>\n",
       "      <td>01-728</td>\n",
       "      <td>Warszawa</td>\n",
       "      <td>1724404</td>\n",
       "      <td>False</td>\n",
       "      <td>146502</td>\n",
       "      <td>mazowieckie</td>\n",
       "      <td>Warszawa</td>\n",
       "      <td>Bemowo</td>\n",
       "      <td>dzielnica m.st. Warszawy</td>\n",
       "    </tr>\n",
       "    <tr>\n",
       "      <th>4</th>\n",
       "      <td>43454</td>\n",
       "      <td>SP</td>\n",
       "      <td>False</td>\n",
       "      <td>False</td>\n",
       "      <td>NaN</td>\n",
       "      <td>NaN</td>\n",
       "      <td>NaN</td>\n",
       "      <td>2014</td>\n",
       "      <td>146502-04P0J</td>\n",
       "      <td>Szkoła Podstwawowa nr 24</td>\n",
       "      <td>...</td>\n",
       "      <td>Warszawa</td>\n",
       "      <td>01-355</td>\n",
       "      <td>Warszawa</td>\n",
       "      <td>1724404</td>\n",
       "      <td>NaN</td>\n",
       "      <td>146502</td>\n",
       "      <td>mazowieckie</td>\n",
       "      <td>Warszawa</td>\n",
       "      <td>Bemowo</td>\n",
       "      <td>dzielnica m.st. Warszawy</td>\n",
       "    </tr>\n",
       "  </tbody>\n",
       "</table>\n",
       "<p>5 rows × 21 columns</p>\n",
       "</div>"
      ],
      "text/plain": [
       "   id_szkoly typ_szkoly publiczna dla_doroslych specjalna przyszpitalna  \\\n",
       "0      25302         LO     False          True     False         False   \n",
       "1      25300         LO     False         False     False         False   \n",
       "2      25298         LO      True         False     False         False   \n",
       "3      25499         LO     False         False     False         False   \n",
       "4      43454         SP     False         False       NaN           NaN   \n",
       "\n",
       "  artystyczna   rok id_szkoly_oke  \\\n",
       "0         NaN  2014  146502-0810Z   \n",
       "1         NaN  2014  146502-0610L   \n",
       "2         NaN  2014  146502-01104   \n",
       "3         NaN  2014  146502-04107   \n",
       "4         NaN  2014  146502-04P0J   \n",
       "\n",
       "                                        nazwa_szkoly  \\\n",
       "0    Liceum Ogólnokształcące dla Dorosłych nr 48 MGM   \n",
       "1         Sportowe Liceum Ogólnokształcące nr 67 MGM   \n",
       "2  LXXVIII Liceum Ogólnokształcące im. Marii Pawl...   \n",
       "3  Liceum Ogólnokształcące Niepubliczne nr 29 im....   \n",
       "4                           Szkoła Podstwawowa nr 24   \n",
       "\n",
       "             ...            miejscowosc     pna    poczta  \\\n",
       "0            ...               Warszawa  01-494  Warszawa   \n",
       "1            ...               Warszawa  01-494  Warszawa   \n",
       "2            ...               Warszawa  01-391  Warszawa   \n",
       "3            ...               Warszawa  01-728  Warszawa   \n",
       "4            ...               Warszawa  01-355  Warszawa   \n",
       "\n",
       "  wielkosc_miejscowosci  matura_miedzynarodowa teryt_szkoly  \\\n",
       "0               1724404                  False       146502   \n",
       "1               1724404                  False       146502   \n",
       "2               1724404                  False       146502   \n",
       "3               1724404                  False       146502   \n",
       "4               1724404                    NaN       146502   \n",
       "\n",
       "   wojewodztwo_szkoly powiat_szkoly gmina_szkoly              rodzaj_gminy  \n",
       "0         mazowieckie      Warszawa       Bemowo  dzielnica m.st. Warszawy  \n",
       "1         mazowieckie      Warszawa       Bemowo  dzielnica m.st. Warszawy  \n",
       "2         mazowieckie      Warszawa       Bemowo  dzielnica m.st. Warszawy  \n",
       "3         mazowieckie      Warszawa       Bemowo  dzielnica m.st. Warszawy  \n",
       "4         mazowieckie      Warszawa       Bemowo  dzielnica m.st. Warszawy  \n",
       "\n",
       "[5 rows x 21 columns]"
      ]
     },
     "execution_count": 33,
     "metadata": {},
     "output_type": "execute_result"
    }
   ],
   "source": [
    "szkoly.head()"
   ]
  },
  {
   "cell_type": "code",
   "execution_count": 34,
   "metadata": {
    "collapsed": true
   },
   "outputs": [],
   "source": [
    "df = wyniki.merge(szkoly, how='left', on=\"id_szkoly\")"
   ]
  },
  {
   "cell_type": "code",
   "execution_count": 35,
   "metadata": {
    "collapsed": false
   },
   "outputs": [],
   "source": [
    "df['wiek'] = (2014 - df.rocznik)"
   ]
  },
  {
   "cell_type": "code",
   "execution_count": 36,
   "metadata": {
    "collapsed": true
   },
   "outputs": [],
   "source": [
    "def wiek_uprosc(wiek):\n",
    "    if wiek <= 18:\n",
    "        return \"18 lub mniej\"\n",
    "    elif wiek == 19:\n",
    "        return \"19\"\n",
    "    elif wiek == 20:\n",
    "        return \"20\"\n",
    "    else:\n",
    "        return \"21 i więcej\"\n",
    "    \n",
    "df['wiek_prosciej'] = df['wiek'].apply(wiek_uprosc)"
   ]
  },
  {
   "cell_type": "code",
   "execution_count": 37,
   "metadata": {
    "collapsed": false
   },
   "outputs": [
    {
     "name": "stdout",
     "output_type": "stream",
     "text": [
      "('k', False) 156873\n",
      "('k', True) 7756\n",
      "('m', False) 119783\n",
      "('m', True) 13450\n"
     ]
    }
   ],
   "source": [
    "for k, v in df.groupby([\"plec\", \"dysleksja\"]).size().iterkv():\n",
    "    print(k, v)"
   ]
  },
  {
   "cell_type": "code",
   "execution_count": 25,
   "metadata": {
    "collapsed": true
   },
   "outputs": [],
   "source": [
    "def get_coincidence_graph(df):\n",
    "    \n",
    "    total = len(df)\n",
    "    \n",
    "    nodes = []\n",
    "    node_ref = {}\n",
    "    for col in df.columns:\n",
    "        for name, count in df[col].value_counts().iterkv():\n",
    "            node_ref[(name, col)] = len(nodes)\n",
    "            nodes.append({\"name\": str(name), \"category\": col, \"count\": int(count)})\n",
    "            \n",
    "    edges = []\n",
    "    for col1 in df.columns:\n",
    "        for col2 in df.columns:\n",
    "            if col1 < col2:\n",
    "                for (name1, name2), count in df.groupby([col1, col2]).size().iterkv():\n",
    "                    i1 = node_ref[(name1, col1)]\n",
    "                    i2 = node_ref[(name2, col2)]\n",
    "                    edges.append({\"source\": i1,\n",
    "                                  \"target\": i2,\n",
    "                                  \"count\": int(count),\n",
    "                                  \"oe\": (float(count) * total) / (nodes[i1][\"count\"] * nodes[i2][\"count\"]) })             \n",
    "                \n",
    "    return {\"nodes\": nodes, \"links\": edges}"
   ]
  },
  {
   "cell_type": "code",
   "execution_count": 38,
   "metadata": {
    "collapsed": false
   },
   "outputs": [
    {
     "data": {
      "text/plain": [
       "{'links': [{'count': 1618, 'oe': 1.2773202197562152, 'source': 0, 'target': 5},\n",
       "  {'count': 109625, 'oe': 1.1577831323565368, 'source': 0, 'target': 2},\n",
       "  {'count': 44011, 'oe': 0.7986302410911573, 'source': 0, 'target': 3},\n",
       "  {'count': 11514, 'oe': 0.7330061723588208, 'source': 0, 'target': 4},\n",
       "  {'count': 694, 'oe': 0.6769594392129653, 'source': 1, 'target': 5},\n",
       "  {'count': 63194, 'oe': 0.8246608276270304, 'source': 1, 'target': 2},\n",
       "  {'count': 56572, 'oe': 1.2684342359204395, 'source': 1, 'target': 3},\n",
       "  {'count': 14508, 'oe': 1.1412239084505855, 'source': 1, 'target': 4}],\n",
       " 'nodes': [{'category': 'plec', 'count': 166768, 'name': 'k'},\n",
       "  {'category': 'plec', 'count': 134968, 'name': 'm'},\n",
       "  {'category': 'wiek_prosciej', 'count': 172819, 'name': '19'},\n",
       "  {'category': 'wiek_prosciej', 'count': 100583, 'name': '20'},\n",
       "  {'category': 'wiek_prosciej', 'count': 28670, 'name': '21 i więcej'},\n",
       "  {'category': 'wiek_prosciej', 'count': 2312, 'name': '18 lub mniej'}]}"
      ]
     },
     "execution_count": 38,
     "metadata": {},
     "output_type": "execute_result"
    }
   ],
   "source": [
    "get_coincidence_graph(df[[\"plec\", \"wiek_prosciej\", \"\"]])"
   ]
  },
  {
   "cell_type": "code",
   "execution_count": 23,
   "metadata": {
    "collapsed": false
   },
   "outputs": [
    {
     "data": {
      "text/plain": [
       "plec  rocznik\n",
       "k     1995       109625\n",
       "m     1995        63194\n",
       "      1994        56572\n",
       "k     1994        44011\n",
       "m     1993         6354\n",
       "dtype: int64"
      ]
     },
     "execution_count": 23,
     "metadata": {},
     "output_type": "execute_result"
    }
   ],
   "source": [
    "df.groupby([\"plec\", \"rocznik\"]).size().order(ascending=False).head()"
   ]
  },
  {
   "cell_type": "code",
   "execution_count": 39,
   "metadata": {
    "collapsed": false
   },
   "outputs": [],
   "source": [
    "zmienne = [\"plec\", \"wiek_prosciej\", \"dysleksja\", \"typ_szkoly\", \"rodzaj_gminy\", \"publiczna\"]\n",
    "graf = get_coincidence_graph(df[zmienne])\n",
    "json.dump(graf, open(\"../dane/przetworzone/koincydencje_demograficzne.json\", 'w'), indent=2)\n",
    "json.dump(graf, open(\"../d3viz/data/koincydencje_demograficzne.json\", 'w'), indent=2)"
   ]
  },
  {
   "cell_type": "code",
   "execution_count": 29,
   "metadata": {
    "collapsed": true
   },
   "outputs": [],
   "source": []
  }
 ],
 "metadata": {
  "kernelspec": {
   "display_name": "Python 3",
   "language": "python",
   "name": "python3"
  },
  "language_info": {
   "codemirror_mode": {
    "name": "ipython",
    "version": 3
   },
   "file_extension": ".py",
   "mimetype": "text/x-python",
   "name": "python",
   "nbconvert_exporter": "python",
   "pygments_lexer": "ipython3",
   "version": "3.4.3"
  }
 },
 "nbformat": 4,
 "nbformat_minor": 0
}

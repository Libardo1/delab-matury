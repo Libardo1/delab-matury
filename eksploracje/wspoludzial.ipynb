{
 "cells": [
  {
   "cell_type": "code",
   "execution_count": 1,
   "metadata": {
    "collapsed": true
   },
   "outputs": [],
   "source": [
    "import pandas as pd\n",
    "import matplotlib.pyplot as plt\n",
    "import seaborn as sns\n",
    "from scipy import linalg\n",
    "import numpy as np\n",
    "import json\n",
    "%matplotlib inline"
   ]
  },
  {
   "cell_type": "code",
   "execution_count": 2,
   "metadata": {
    "collapsed": false
   },
   "outputs": [
    {
     "name": "stderr",
     "output_type": "stream",
     "text": [
      "/usr/local/lib/python3.4/site-packages/pandas/io/parsers.py:1170: DtypeWarning: Columns (4,8,11,14,17,20,23,26,29,32) have mixed types. Specify dtype option on import or set low_memory=False.\n",
      "  data = self._reader.read(nrows)\n"
     ]
    }
   ],
   "source": [
    "df = pd.read_csv(\"../dane/przetworzone/sumy_laureaty.csv\")\n",
    "df = df.drop(\"Unnamed: 0\", 1)\n",
    "df = df.drop(\"id_szkoly\", 1)"
   ]
  },
  {
   "cell_type": "code",
   "execution_count": 3,
   "metadata": {
    "collapsed": false
   },
   "outputs": [
    {
     "data": {
      "text/html": [
       "<div>\n",
       "<table border=\"1\" class=\"dataframe\">\n",
       "  <thead>\n",
       "    <tr style=\"text-align: right;\">\n",
       "      <th></th>\n",
       "      <th>plec</th>\n",
       "      <th>rocznik</th>\n",
       "      <th>dysleksja</th>\n",
       "      <th>biologia_laureat</th>\n",
       "      <th>biologia_podstawowa</th>\n",
       "      <th>biologia_rozszerzona</th>\n",
       "      <th>chemia_laureat</th>\n",
       "      <th>chemia_podstawowa</th>\n",
       "      <th>chemia_rozszerzona</th>\n",
       "      <th>fizyka_laureat</th>\n",
       "      <th>...</th>\n",
       "      <th>j_angielski_rozszerzona</th>\n",
       "      <th>j_polski_laureat</th>\n",
       "      <th>j_polski_podstawowa</th>\n",
       "      <th>j_polski_rozszerzona</th>\n",
       "      <th>matematyka_laureat</th>\n",
       "      <th>matematyka_podstawowa</th>\n",
       "      <th>matematyka_rozszerzona</th>\n",
       "      <th>WOS_laureat</th>\n",
       "      <th>WOS_podstawowa</th>\n",
       "      <th>WOS_rozszerzona</th>\n",
       "    </tr>\n",
       "  </thead>\n",
       "  <tbody>\n",
       "    <tr>\n",
       "      <th>0</th>\n",
       "      <td>k</td>\n",
       "      <td>1995</td>\n",
       "      <td>False</td>\n",
       "      <td>NaN</td>\n",
       "      <td>NaN</td>\n",
       "      <td>NaN</td>\n",
       "      <td>NaN</td>\n",
       "      <td>NaN</td>\n",
       "      <td>NaN</td>\n",
       "      <td>NaN</td>\n",
       "      <td>...</td>\n",
       "      <td>NaN</td>\n",
       "      <td>NaN</td>\n",
       "      <td>25</td>\n",
       "      <td>NaN</td>\n",
       "      <td>NaN</td>\n",
       "      <td>4</td>\n",
       "      <td>NaN</td>\n",
       "      <td>NaN</td>\n",
       "      <td>NaN</td>\n",
       "      <td>NaN</td>\n",
       "    </tr>\n",
       "    <tr>\n",
       "      <th>1</th>\n",
       "      <td>k</td>\n",
       "      <td>NaN</td>\n",
       "      <td>False</td>\n",
       "      <td>NaN</td>\n",
       "      <td>NaN</td>\n",
       "      <td>NaN</td>\n",
       "      <td>NaN</td>\n",
       "      <td>NaN</td>\n",
       "      <td>NaN</td>\n",
       "      <td>NaN</td>\n",
       "      <td>...</td>\n",
       "      <td>NaN</td>\n",
       "      <td>NaN</td>\n",
       "      <td>10</td>\n",
       "      <td>NaN</td>\n",
       "      <td>NaN</td>\n",
       "      <td>6</td>\n",
       "      <td>NaN</td>\n",
       "      <td>NaN</td>\n",
       "      <td>NaN</td>\n",
       "      <td>NaN</td>\n",
       "    </tr>\n",
       "    <tr>\n",
       "      <th>2</th>\n",
       "      <td>k</td>\n",
       "      <td>1995</td>\n",
       "      <td>False</td>\n",
       "      <td>NaN</td>\n",
       "      <td>NaN</td>\n",
       "      <td>NaN</td>\n",
       "      <td>NaN</td>\n",
       "      <td>NaN</td>\n",
       "      <td>NaN</td>\n",
       "      <td>NaN</td>\n",
       "      <td>...</td>\n",
       "      <td>NaN</td>\n",
       "      <td>NaN</td>\n",
       "      <td>15</td>\n",
       "      <td>NaN</td>\n",
       "      <td>NaN</td>\n",
       "      <td>3</td>\n",
       "      <td>NaN</td>\n",
       "      <td>NaN</td>\n",
       "      <td>NaN</td>\n",
       "      <td>NaN</td>\n",
       "    </tr>\n",
       "    <tr>\n",
       "      <th>3</th>\n",
       "      <td>k</td>\n",
       "      <td>1994</td>\n",
       "      <td>False</td>\n",
       "      <td>NaN</td>\n",
       "      <td>NaN</td>\n",
       "      <td>NaN</td>\n",
       "      <td>NaN</td>\n",
       "      <td>NaN</td>\n",
       "      <td>NaN</td>\n",
       "      <td>NaN</td>\n",
       "      <td>...</td>\n",
       "      <td>NaN</td>\n",
       "      <td>NaN</td>\n",
       "      <td>6</td>\n",
       "      <td>NaN</td>\n",
       "      <td>NaN</td>\n",
       "      <td>4</td>\n",
       "      <td>NaN</td>\n",
       "      <td>NaN</td>\n",
       "      <td>NaN</td>\n",
       "      <td>NaN</td>\n",
       "    </tr>\n",
       "    <tr>\n",
       "      <th>4</th>\n",
       "      <td>k</td>\n",
       "      <td>1995</td>\n",
       "      <td>False</td>\n",
       "      <td>NaN</td>\n",
       "      <td>NaN</td>\n",
       "      <td>NaN</td>\n",
       "      <td>NaN</td>\n",
       "      <td>NaN</td>\n",
       "      <td>NaN</td>\n",
       "      <td>NaN</td>\n",
       "      <td>...</td>\n",
       "      <td>NaN</td>\n",
       "      <td>NaN</td>\n",
       "      <td>39</td>\n",
       "      <td>NaN</td>\n",
       "      <td>NaN</td>\n",
       "      <td>13</td>\n",
       "      <td>NaN</td>\n",
       "      <td>NaN</td>\n",
       "      <td>NaN</td>\n",
       "      <td>NaN</td>\n",
       "    </tr>\n",
       "  </tbody>\n",
       "</table>\n",
       "<p>5 rows × 33 columns</p>\n",
       "</div>"
      ],
      "text/plain": [
       "  plec  rocznik dysleksja biologia_laureat  biologia_podstawowa  \\\n",
       "0    k     1995     False              NaN                  NaN   \n",
       "1    k      NaN     False              NaN                  NaN   \n",
       "2    k     1995     False              NaN                  NaN   \n",
       "3    k     1994     False              NaN                  NaN   \n",
       "4    k     1995     False              NaN                  NaN   \n",
       "\n",
       "   biologia_rozszerzona chemia_laureat  chemia_podstawowa  chemia_rozszerzona  \\\n",
       "0                   NaN            NaN                NaN                 NaN   \n",
       "1                   NaN            NaN                NaN                 NaN   \n",
       "2                   NaN            NaN                NaN                 NaN   \n",
       "3                   NaN            NaN                NaN                 NaN   \n",
       "4                   NaN            NaN                NaN                 NaN   \n",
       "\n",
       "  fizyka_laureat       ...         j_angielski_rozszerzona  j_polski_laureat  \\\n",
       "0            NaN       ...                             NaN               NaN   \n",
       "1            NaN       ...                             NaN               NaN   \n",
       "2            NaN       ...                             NaN               NaN   \n",
       "3            NaN       ...                             NaN               NaN   \n",
       "4            NaN       ...                             NaN               NaN   \n",
       "\n",
       "  j_polski_podstawowa  j_polski_rozszerzona  matematyka_laureat  \\\n",
       "0                  25                   NaN                 NaN   \n",
       "1                  10                   NaN                 NaN   \n",
       "2                  15                   NaN                 NaN   \n",
       "3                   6                   NaN                 NaN   \n",
       "4                  39                   NaN                 NaN   \n",
       "\n",
       "  matematyka_podstawowa  matematyka_rozszerzona  WOS_laureat WOS_podstawowa  \\\n",
       "0                     4                     NaN          NaN            NaN   \n",
       "1                     6                     NaN          NaN            NaN   \n",
       "2                     3                     NaN          NaN            NaN   \n",
       "3                     4                     NaN          NaN            NaN   \n",
       "4                    13                     NaN          NaN            NaN   \n",
       "\n",
       "   WOS_rozszerzona  \n",
       "0              NaN  \n",
       "1              NaN  \n",
       "2              NaN  \n",
       "3              NaN  \n",
       "4              NaN  \n",
       "\n",
       "[5 rows x 33 columns]"
      ]
     },
     "execution_count": 3,
     "metadata": {},
     "output_type": "execute_result"
    }
   ],
   "source": [
    "df.head()"
   ]
  },
  {
   "cell_type": "code",
   "execution_count": 4,
   "metadata": {
    "collapsed": false
   },
   "outputs": [
    {
     "data": {
      "text/plain": [
       "plec                       301736\n",
       "rocznik                    297637\n",
       "dysleksja                  297863\n",
       "biologia_laureat               84\n",
       "biologia_podstawowa         26731\n",
       "biologia_rozszerzona        28369\n",
       "chemia_laureat                 74\n",
       "chemia_podstawowa            8394\n",
       "chemia_rozszerzona          22365\n",
       "fizyka_laureat                 45\n",
       "fizyka_podstawowa           12138\n",
       "fizyka_rozszerzona          12421\n",
       "geografia_laureat              69\n",
       "geografia_podstawowa        34759\n",
       "geografia_rozszerzona       25074\n",
       "historia_laureat              105\n",
       "historia_podstawowa          8369\n",
       "historia_rozszerzona         7651\n",
       "informatyka_laureat            61\n",
       "informatyka_podstawowa       2061\n",
       "informatyka_rozszerzona      2243\n",
       "j_angielski_laureat            37\n",
       "j_angielski_podstawowa     265668\n",
       "j_angielski_rozszerzona     79661\n",
       "j_polski_laureat              183\n",
       "j_polski_podstawowa        301805\n",
       "j_polski_rozszerzona        30056\n",
       "matematyka_laureat             74\n",
       "matematyka_podstawowa      301545\n",
       "matematyka_rozszerzona      53202\n",
       "WOS_laureat                    40\n",
       "WOS_podstawowa              11405\n",
       "WOS_rozszerzona             13197\n",
       "dtype: int64"
      ]
     },
     "execution_count": 4,
     "metadata": {},
     "output_type": "execute_result"
    }
   ],
   "source": [
    "df.count()"
   ]
  },
  {
   "cell_type": "code",
   "execution_count": 5,
   "metadata": {
    "collapsed": false
   },
   "outputs": [
    {
     "data": {
      "text/plain": [
       "plec                       549.305015\n",
       "rocznik                    545.561179\n",
       "dysleksja                  545.768266\n",
       "biologia_laureat             9.165151\n",
       "biologia_podstawowa        163.496177\n",
       "biologia_rozszerzona       168.430995\n",
       "chemia_laureat               8.602325\n",
       "chemia_podstawowa           91.618775\n",
       "chemia_rozszerzona         149.549323\n",
       "fizyka_laureat               6.708204\n",
       "fizyka_podstawowa          110.172592\n",
       "fizyka_rozszerzona         111.449540\n",
       "geografia_laureat            8.306624\n",
       "geografia_podstawowa       186.437657\n",
       "geografia_rozszerzona      158.347719\n",
       "historia_laureat            10.246951\n",
       "historia_podstawowa         91.482239\n",
       "historia_rozszerzona        87.469995\n",
       "informatyka_laureat          7.810250\n",
       "informatyka_podstawowa      45.398238\n",
       "informatyka_rozszerzona     47.360321\n",
       "j_angielski_laureat          6.082763\n",
       "j_angielski_podstawowa     515.429918\n",
       "j_angielski_rozszerzona    282.242803\n",
       "j_polski_laureat            13.527749\n",
       "j_polski_podstawowa        549.367818\n",
       "j_polski_rozszerzona       173.366663\n",
       "matematyka_laureat           8.602325\n",
       "matematyka_podstawowa      549.131132\n",
       "matematyka_rozszerzona     230.655587\n",
       "WOS_laureat                  6.324555\n",
       "WOS_podstawowa             106.794195\n",
       "WOS_rozszerzona            114.878196\n",
       "dtype: float64"
      ]
     },
     "execution_count": 5,
     "metadata": {},
     "output_type": "execute_result"
    }
   ],
   "source": [
    "np.sqrt(df.count())"
   ]
  },
  {
   "cell_type": "code",
   "execution_count": 7,
   "metadata": {
    "collapsed": true
   },
   "outputs": [],
   "source": [
    "przedmioty = [col for col in df if col.endswith(\"podstawowa\") or col.endswith(\"rozszerzona\")]"
   ]
  },
  {
   "cell_type": "code",
   "execution_count": 8,
   "metadata": {
    "collapsed": false
   },
   "outputs": [],
   "source": [
    "uczestnictwo = df.loc[:, przedmioty]\n",
    "uczestnictwo = pd.notnull(uczestnictwo).values.astype(int)"
   ]
  },
  {
   "cell_type": "code",
   "execution_count": 9,
   "metadata": {
    "collapsed": false
   },
   "outputs": [
    {
     "data": {
      "text/plain": [
       "(304384, 20)"
      ]
     },
     "execution_count": 9,
     "metadata": {},
     "output_type": "execute_result"
    }
   ],
   "source": [
    "uczestnictwo.shape"
   ]
  },
  {
   "cell_type": "code",
   "execution_count": 10,
   "metadata": {
    "collapsed": true
   },
   "outputs": [],
   "source": [
    "koincydencje = np.dot(uczestnictwo.transpose(), uczestnictwo)"
   ]
  },
  {
   "cell_type": "code",
   "execution_count": 11,
   "metadata": {
    "collapsed": false
   },
   "outputs": [
    {
     "data": {
      "text/plain": [
       "(20, 20)"
      ]
     },
     "execution_count": 11,
     "metadata": {},
     "output_type": "execute_result"
    }
   ],
   "source": [
    "koincydencje.shape"
   ]
  },
  {
   "cell_type": "code",
   "execution_count": 12,
   "metadata": {
    "collapsed": false
   },
   "outputs": [],
   "source": [
    "df_k = pd.DataFrame(koincydencje, index=przedmioty, columns=przedmioty)"
   ]
  },
  {
   "cell_type": "code",
   "execution_count": 13,
   "metadata": {
    "collapsed": false
   },
   "outputs": [
    {
     "data": {
      "text/plain": [
       "<matplotlib.axes._subplots.AxesSubplot at 0x10ceea9b0>"
      ]
     },
     "execution_count": 13,
     "metadata": {},
     "output_type": "execute_result"
    },
    {
     "data": {
      "image/png": "[encoded data removed]",
      "text/plain": [
       "<matplotlib.figure.Figure at 0x10ceea358>"
      ]
     },
     "metadata": {},
     "output_type": "display_data"
    }
   ],
   "source": [
    "sns.heatmap(np.log10(df_k + 1))"
   ]
  },
  {
   "cell_type": "code",
   "execution_count": 14,
   "metadata": {
    "collapsed": false
   },
   "outputs": [],
   "source": [
    "df_p = df_k/df_k.max().max()"
   ]
  },
  {
   "cell_type": "code",
   "execution_count": 15,
   "metadata": {
    "collapsed": true
   },
   "outputs": [],
   "source": [
    "df_wzajemna = df_p.copy()"
   ]
  },
  {
   "cell_type": "code",
   "execution_count": 16,
   "metadata": {
    "collapsed": true
   },
   "outputs": [],
   "source": [
    "for col in df_wzajemna.columns:\n",
    "    for row in df_wzajemna.columns:\n",
    "        if df_p.loc[row, col] == 0:\n",
    "            df_wzajemna.loc[row, col] = -20\n",
    "        else:\n",
    "            df_wzajemna.loc[row, col] = np.log2(df_p.loc[row, col] / (df_p.loc[row, row] * df_p.loc[col, col]))"
   ]
  },
  {
   "cell_type": "code",
   "execution_count": 17,
   "metadata": {
    "collapsed": false
   },
   "outputs": [],
   "source": [
    "nodes = []\n",
    "for col in df_wzajemna.columns:\n",
    "    nodes.append({\"name\": col,\n",
    "                  \"count\": float(df_k.loc[col, col])})\n",
    "\n",
    "links = []\n",
    "for i, row in enumerate(df_wzajemna.columns):\n",
    "    for j, col in enumerate(df_wzajemna.columns):\n",
    "        if i < j:\n",
    "            links.append({\"source\": int(i),\n",
    "                          \"target\": int(j),\n",
    "                          \"count\": float(df_k.loc[row, col]),\n",
    "                          \"oe\": float(df_p.loc[row, col] / (df_p.loc[row, row] * df_p.loc[col, col]))})"
   ]
  },
  {
   "cell_type": "code",
   "execution_count": 18,
   "metadata": {
    "collapsed": false
   },
   "outputs": [],
   "source": [
    "json.dump({\"nodes\": nodes, \"links\": links}, open(\"../dane/przetworzone/wspolwystepowanie.json\", \"w\"), indent=2)"
   ]
  },
  {
   "cell_type": "code",
   "execution_count": null,
   "metadata": {
    "collapsed": false
   },
   "outputs": [],
   "source": [
    "sns.heatmap(df_wzajemna)"
   ]
  },
  {
   "cell_type": "code",
   "execution_count": null,
   "metadata": {
    "collapsed": false
   },
   "outputs": [],
   "source": [
    "sns.heatmap(df_wzajemna.applymap(lambda x: x if x > 0 else 0))"
   ]
  },
  {
   "cell_type": "code",
   "execution_count": null,
   "metadata": {
    "collapsed": false
   },
   "outputs": [],
   "source": [
    "sns.clustermap(df_wzajemna.applymap(lambda x: x if x > 0 else 0))"
   ]
  },
  {
   "cell_type": "code",
   "execution_count": null,
   "metadata": {
    "collapsed": true
   },
   "outputs": [],
   "source": []
  }
 ],
 "metadata": {
  "kernelspec": {
   "display_name": "Python 3",
   "language": "python",
   "name": "python3"
  },
  "language_info": {
   "codemirror_mode": {
    "name": "ipython",
    "version": 3
   },
   "file_extension": ".py",
   "mimetype": "text/x-python",
   "name": "python",
   "nbconvert_exporter": "python",
   "pygments_lexer": "ipython3",
   "version": "3.4.3"
  }
 },
 "nbformat": 4,
 "nbformat_minor": 0
}

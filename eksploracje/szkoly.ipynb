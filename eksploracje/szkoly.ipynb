{
 "cells": [
  {
   "cell_type": "code",
   "execution_count": 1,
   "metadata": {
    "collapsed": true
   },
   "outputs": [],
   "source": [
    "import pandas as pd\n",
    "import seaborn as sns\n",
    "%matplotlib inline"
   ]
  },
  {
   "cell_type": "code",
   "execution_count": 7,
   "metadata": {
    "collapsed": true
   },
   "outputs": [],
   "source": [
    "szkoly = pd.read_csv(\"../dane/szkoly2014.csv\", index_col='id_szkoly')"
   ]
  },
  {
   "cell_type": "code",
   "execution_count": 8,
   "metadata": {
    "collapsed": false
   },
   "outputs": [
    {
     "data": {
      "text/plain": [
       "Index(['typ_szkoly', 'publiczna', 'dla_doroslych', 'specjalna', 'przyszpitalna', 'artystyczna', 'rok', 'id_szkoly_oke', 'nazwa_szkoly', 'adres', 'miejscowosc', 'pna', 'poczta', 'wielkosc_miejscowosci', 'matura_miedzynarodowa', 'teryt_szkoly', 'wojewodztwo_szkoly', 'powiat_szkoly', 'gmina_szkoly', 'rodzaj_gminy'], dtype='object')"
      ]
     },
     "execution_count": 8,
     "metadata": {},
     "output_type": "execute_result"
    }
   ],
   "source": [
    "szkoly.columns"
   ]
  },
  {
   "cell_type": "code",
   "execution_count": 9,
   "metadata": {
    "collapsed": false
   },
   "outputs": [
    {
     "data": {
      "text/html": [
       "<div style=\"max-height:1000px;max-width:1500px;overflow:auto;\">\n",
       "<table border=\"1\" class=\"dataframe\">\n",
       "  <thead>\n",
       "    <tr style=\"text-align: right;\">\n",
       "      <th></th>\n",
       "      <th>typ_szkoly</th>\n",
       "      <th>publiczna</th>\n",
       "      <th>dla_doroslych</th>\n",
       "      <th>specjalna</th>\n",
       "      <th>przyszpitalna</th>\n",
       "      <th>artystyczna</th>\n",
       "      <th>rok</th>\n",
       "      <th>id_szkoly_oke</th>\n",
       "      <th>nazwa_szkoly</th>\n",
       "      <th>adres</th>\n",
       "      <th>miejscowosc</th>\n",
       "      <th>pna</th>\n",
       "      <th>poczta</th>\n",
       "      <th>wielkosc_miejscowosci</th>\n",
       "      <th>matura_miedzynarodowa</th>\n",
       "      <th>teryt_szkoly</th>\n",
       "      <th>wojewodztwo_szkoly</th>\n",
       "      <th>powiat_szkoly</th>\n",
       "      <th>gmina_szkoly</th>\n",
       "      <th>rodzaj_gminy</th>\n",
       "    </tr>\n",
       "    <tr>\n",
       "      <th>id_szkoly</th>\n",
       "      <th></th>\n",
       "      <th></th>\n",
       "      <th></th>\n",
       "      <th></th>\n",
       "      <th></th>\n",
       "      <th></th>\n",
       "      <th></th>\n",
       "      <th></th>\n",
       "      <th></th>\n",
       "      <th></th>\n",
       "      <th></th>\n",
       "      <th></th>\n",
       "      <th></th>\n",
       "      <th></th>\n",
       "      <th></th>\n",
       "      <th></th>\n",
       "      <th></th>\n",
       "      <th></th>\n",
       "      <th></th>\n",
       "      <th></th>\n",
       "    </tr>\n",
       "  </thead>\n",
       "  <tbody>\n",
       "    <tr>\n",
       "      <th>25302</th>\n",
       "      <td> LO</td>\n",
       "      <td> False</td>\n",
       "      <td>  True</td>\n",
       "      <td> False</td>\n",
       "      <td> False</td>\n",
       "      <td> NaN</td>\n",
       "      <td> 2014</td>\n",
       "      <td> 146502-0810Z</td>\n",
       "      <td>   Liceum Ogólnokształcące dla Dorosłych nr 48 MGM</td>\n",
       "      <td>     Obrońców Tobruku 40</td>\n",
       "      <td> Warszawa</td>\n",
       "      <td> 01-494</td>\n",
       "      <td> Warszawa</td>\n",
       "      <td> 1724404</td>\n",
       "      <td> False</td>\n",
       "      <td> 146502</td>\n",
       "      <td> mazowieckie</td>\n",
       "      <td> Warszawa</td>\n",
       "      <td> Bemowo</td>\n",
       "      <td> dzielnica m.st. Warszawy</td>\n",
       "    </tr>\n",
       "    <tr>\n",
       "      <th>25300</th>\n",
       "      <td> LO</td>\n",
       "      <td> False</td>\n",
       "      <td> False</td>\n",
       "      <td> False</td>\n",
       "      <td> False</td>\n",
       "      <td> NaN</td>\n",
       "      <td> 2014</td>\n",
       "      <td> 146502-0610L</td>\n",
       "      <td>        Sportowe Liceum Ogólnokształcące nr 67 MGM</td>\n",
       "      <td>     Obrońców Tobruku 40</td>\n",
       "      <td> Warszawa</td>\n",
       "      <td> 01-494</td>\n",
       "      <td> Warszawa</td>\n",
       "      <td> 1724404</td>\n",
       "      <td> False</td>\n",
       "      <td> 146502</td>\n",
       "      <td> mazowieckie</td>\n",
       "      <td> Warszawa</td>\n",
       "      <td> Bemowo</td>\n",
       "      <td> dzielnica m.st. Warszawy</td>\n",
       "    </tr>\n",
       "    <tr>\n",
       "      <th>25298</th>\n",
       "      <td> LO</td>\n",
       "      <td>  True</td>\n",
       "      <td> False</td>\n",
       "      <td> False</td>\n",
       "      <td> False</td>\n",
       "      <td> NaN</td>\n",
       "      <td> 2014</td>\n",
       "      <td> 146502-01104</td>\n",
       "      <td> LXXVIII Liceum Ogólnokształcące im. Marii Pawl...</td>\n",
       "      <td>        Anieli Krzywoń 3</td>\n",
       "      <td> Warszawa</td>\n",
       "      <td> 01-391</td>\n",
       "      <td> Warszawa</td>\n",
       "      <td> 1724404</td>\n",
       "      <td> False</td>\n",
       "      <td> 146502</td>\n",
       "      <td> mazowieckie</td>\n",
       "      <td> Warszawa</td>\n",
       "      <td> Bemowo</td>\n",
       "      <td> dzielnica m.st. Warszawy</td>\n",
       "    </tr>\n",
       "    <tr>\n",
       "      <th>25499</th>\n",
       "      <td> LO</td>\n",
       "      <td> False</td>\n",
       "      <td> False</td>\n",
       "      <td> False</td>\n",
       "      <td> False</td>\n",
       "      <td> NaN</td>\n",
       "      <td> 2014</td>\n",
       "      <td> 146502-04107</td>\n",
       "      <td> Liceum Ogólnokształcące Niepubliczne nr 29 im....</td>\n",
       "      <td>          Powązkowska 90</td>\n",
       "      <td> Warszawa</td>\n",
       "      <td> 01-728</td>\n",
       "      <td> Warszawa</td>\n",
       "      <td> 1724404</td>\n",
       "      <td> False</td>\n",
       "      <td> 146502</td>\n",
       "      <td> mazowieckie</td>\n",
       "      <td> Warszawa</td>\n",
       "      <td> Bemowo</td>\n",
       "      <td> dzielnica m.st. Warszawy</td>\n",
       "    </tr>\n",
       "    <tr>\n",
       "      <th>43454</th>\n",
       "      <td> SP</td>\n",
       "      <td> False</td>\n",
       "      <td> False</td>\n",
       "      <td>   NaN</td>\n",
       "      <td>   NaN</td>\n",
       "      <td> NaN</td>\n",
       "      <td> 2014</td>\n",
       "      <td> 146502-04P0J</td>\n",
       "      <td>                          Szkoła Podstwawowa nr 24</td>\n",
       "      <td> Powstańców Śląskich 67a</td>\n",
       "      <td> Warszawa</td>\n",
       "      <td> 01-355</td>\n",
       "      <td> Warszawa</td>\n",
       "      <td> 1724404</td>\n",
       "      <td>   NaN</td>\n",
       "      <td> 146502</td>\n",
       "      <td> mazowieckie</td>\n",
       "      <td> Warszawa</td>\n",
       "      <td> Bemowo</td>\n",
       "      <td> dzielnica m.st. Warszawy</td>\n",
       "    </tr>\n",
       "  </tbody>\n",
       "</table>\n",
       "</div>"
      ],
      "text/plain": [
       "          typ_szkoly publiczna dla_doroslych specjalna przyszpitalna  \\\n",
       "id_szkoly                                                              \n",
       "25302             LO     False          True     False         False   \n",
       "25300             LO     False         False     False         False   \n",
       "25298             LO      True         False     False         False   \n",
       "25499             LO     False         False     False         False   \n",
       "43454             SP     False         False       NaN           NaN   \n",
       "\n",
       "          artystyczna   rok id_szkoly_oke  \\\n",
       "id_szkoly                                   \n",
       "25302             NaN  2014  146502-0810Z   \n",
       "25300             NaN  2014  146502-0610L   \n",
       "25298             NaN  2014  146502-01104   \n",
       "25499             NaN  2014  146502-04107   \n",
       "43454             NaN  2014  146502-04P0J   \n",
       "\n",
       "                                                nazwa_szkoly  \\\n",
       "id_szkoly                                                      \n",
       "25302        Liceum Ogólnokształcące dla Dorosłych nr 48 MGM   \n",
       "25300             Sportowe Liceum Ogólnokształcące nr 67 MGM   \n",
       "25298      LXXVIII Liceum Ogólnokształcące im. Marii Pawl...   \n",
       "25499      Liceum Ogólnokształcące Niepubliczne nr 29 im....   \n",
       "43454                               Szkoła Podstwawowa nr 24   \n",
       "\n",
       "                             adres miejscowosc     pna    poczta  \\\n",
       "id_szkoly                                                          \n",
       "25302          Obrońców Tobruku 40    Warszawa  01-494  Warszawa   \n",
       "25300          Obrońców Tobruku 40    Warszawa  01-494  Warszawa   \n",
       "25298             Anieli Krzywoń 3    Warszawa  01-391  Warszawa   \n",
       "25499               Powązkowska 90    Warszawa  01-728  Warszawa   \n",
       "43454      Powstańców Śląskich 67a    Warszawa  01-355  Warszawa   \n",
       "\n",
       "           wielkosc_miejscowosci matura_miedzynarodowa  teryt_szkoly  \\\n",
       "id_szkoly                                                              \n",
       "25302                    1724404                 False        146502   \n",
       "25300                    1724404                 False        146502   \n",
       "25298                    1724404                 False        146502   \n",
       "25499                    1724404                 False        146502   \n",
       "43454                    1724404                   NaN        146502   \n",
       "\n",
       "          wojewodztwo_szkoly powiat_szkoly gmina_szkoly  \\\n",
       "id_szkoly                                                 \n",
       "25302            mazowieckie      Warszawa       Bemowo   \n",
       "25300            mazowieckie      Warszawa       Bemowo   \n",
       "25298            mazowieckie      Warszawa       Bemowo   \n",
       "25499            mazowieckie      Warszawa       Bemowo   \n",
       "43454            mazowieckie      Warszawa       Bemowo   \n",
       "\n",
       "                       rodzaj_gminy  \n",
       "id_szkoly                            \n",
       "25302      dzielnica m.st. Warszawy  \n",
       "25300      dzielnica m.st. Warszawy  \n",
       "25298      dzielnica m.st. Warszawy  \n",
       "25499      dzielnica m.st. Warszawy  \n",
       "43454      dzielnica m.st. Warszawy  "
      ]
     },
     "execution_count": 9,
     "metadata": {},
     "output_type": "execute_result"
    }
   ],
   "source": [
    "szkoly.head()"
   ]
  },
  {
   "cell_type": "code",
   "execution_count": 10,
   "metadata": {
    "collapsed": false
   },
   "outputs": [
    {
     "data": {
      "text/plain": [
       "SP       12317\n",
       "gimn.     6861\n",
       "LO        3642\n",
       "T         2108\n",
       "LOU        678\n",
       "TU         527\n",
       "LP         478\n",
       "ZZ           1\n",
       "dtype: int64"
      ]
     },
     "execution_count": 10,
     "metadata": {},
     "output_type": "execute_result"
    }
   ],
   "source": [
    "szkoly['typ_szkoly'].value_counts()"
   ]
  },
  {
   "cell_type": "code",
   "execution_count": 40,
   "metadata": {
    "collapsed": true
   },
   "outputs": [],
   "source": [
    "# http://zpd.ibe.edu.pl/doku.php?id=r_zmienne&zm=typ_szkoly\n",
    "# U znaczy uzupełniające"
   ]
  },
  {
   "cell_type": "code",
   "execution_count": 39,
   "metadata": {
    "collapsed": false
   },
   "outputs": [
    {
     "data": {
      "text/plain": [
       "LO    3381\n",
       "T     1949\n",
       "TU      19\n",
       "dtype: int64"
      ]
     },
     "execution_count": 39,
     "metadata": {},
     "output_type": "execute_result"
    }
   ],
   "source": [
    "szkoly[pd.notnull(szkoly['matura_miedzynarodowa'])]['typ_szkoly'].value_counts()"
   ]
  },
  {
   "cell_type": "code",
   "execution_count": null,
   "metadata": {
    "collapsed": true
   },
   "outputs": [],
   "source": [
    "# dlaczenie nie wszytskie szkoły?\n",
    "# co to jest 'TU'?"
   ]
  },
  {
   "cell_type": "code",
   "execution_count": null,
   "metadata": {
    "collapsed": true
   },
   "outputs": [],
   "source": [
    "szkoly['technikum'] = "
   ]
  },
  {
   "cell_type": "code",
   "execution_count": 43,
   "metadata": {
    "collapsed": false
   },
   "outputs": [],
   "source": [
    "licea = szkoly.query(\"typ_szkoly == 'LOU'\")"
   ]
  },
  {
   "cell_type": "code",
   "execution_count": 46,
   "metadata": {
    "collapsed": false
   },
   "outputs": [
    {
     "name": "stdout",
     "output_type": "stream",
     "text": [
      "Object `pd.isin` not found.\n"
     ]
    }
   ],
   "source": [
    "pd.isin?"
   ]
  },
  {
   "cell_type": "code",
   "execution_count": 44,
   "metadata": {
    "collapsed": false
   },
   "outputs": [
    {
     "data": {
      "text/plain": [
       "publiczna                0.364329\n",
       "dla_doroslych            1.000000\n",
       "specjalna                     NaN\n",
       "przyszpitalna                 NaN\n",
       "matura_miedzynarodowa         NaN\n",
       "dtype: float64"
      ]
     },
     "execution_count": 44,
     "metadata": {},
     "output_type": "execute_result"
    }
   ],
   "source": [
    "kol_binarne = ['publiczna', 'dla_doroslych', 'specjalna', 'przyszpitalna', 'matura_miedzynarodowa']\n",
    "licea[kol_binarne].mean()"
   ]
  },
  {
   "cell_type": "code",
   "execution_count": 45,
   "metadata": {
    "collapsed": false
   },
   "outputs": [
    {
     "data": {
      "image/png": "[encoded data removed]",
      "text/plain": [
       "<matplotlib.figure.Figure at 0x1139c3198>"
      ]
     },
     "metadata": {},
     "output_type": "display_data"
    }
   ],
   "source": [
    "sns.heatmap(licea[kol_binarne].applymap(float).corr());"
   ]
  },
  {
   "cell_type": "code",
   "execution_count": 28,
   "metadata": {
    "collapsed": false
   },
   "outputs": [
    {
     "data": {
      "text/plain": [
       "OSM     30\n",
       "OSSP    24\n",
       "OSB      5\n",
       "dtype: int64"
      ]
     },
     "execution_count": 28,
     "metadata": {},
     "output_type": "execute_result"
    }
   ],
   "source": [
    "# to nie jest zmienna binarna\n",
    "licea['artystyczna'].value_counts()"
   ]
  },
  {
   "cell_type": "code",
   "execution_count": 29,
   "metadata": {
    "collapsed": false
   },
   "outputs": [
    {
     "data": {
      "text/plain": [
       "miejska                     2371\n",
       "miejsko-wiejska              862\n",
       "wiejska                      242\n",
       "dzielnica m.st. Warszawy     166\n",
       "dtype: int64"
      ]
     },
     "execution_count": 29,
     "metadata": {},
     "output_type": "execute_result"
    }
   ],
   "source": [
    "licea['rodzaj_gminy'].value_counts()"
   ]
  },
  {
   "cell_type": "code",
   "execution_count": 24,
   "metadata": {
    "collapsed": false
   },
   "outputs": [
    {
     "data": {
      "text/html": [
       "<div style=\"max-height:1000px;max-width:1500px;overflow:auto;\">\n",
       "<table border=\"1\" class=\"dataframe\">\n",
       "  <thead>\n",
       "    <tr style=\"text-align: right;\">\n",
       "      <th></th>\n",
       "      <th>nazwa_szkoly</th>\n",
       "      <th>adres</th>\n",
       "    </tr>\n",
       "    <tr>\n",
       "      <th>id_szkoly</th>\n",
       "      <th></th>\n",
       "      <th></th>\n",
       "    </tr>\n",
       "  </thead>\n",
       "  <tbody>\n",
       "    <tr>\n",
       "      <th>21687</th>\n",
       "      <td> Liceum Ogólnokształcące Katolickiego Towarzyst...</td>\n",
       "      <td>  Krasińskiego 17</td>\n",
       "    </tr>\n",
       "    <tr>\n",
       "      <th>21686</th>\n",
       "      <td> Liceum Ogólnokształcące Mistrzostwa Sportowego...</td>\n",
       "      <td>  Pl. Wolności 10</td>\n",
       "    </tr>\n",
       "    <tr>\n",
       "      <th>21685</th>\n",
       "      <td>    Liceum Ogólnokształcące dla Dorosłych EDUKACJA</td>\n",
       "      <td>        3 Maja 31</td>\n",
       "    </tr>\n",
       "    <tr>\n",
       "      <th>76702</th>\n",
       "      <td> Liceum Ogólnokształcące dla Dorosłych w Bielsk...</td>\n",
       "      <td>    Piastowska 21</td>\n",
       "    </tr>\n",
       "    <tr>\n",
       "      <th>31442</th>\n",
       "      <td> PROFESJA Centrum Kształcenia Kadr Liceum Ogóln...</td>\n",
       "      <td>    Barlickiego 5</td>\n",
       "    </tr>\n",
       "    <tr>\n",
       "      <th>21676</th>\n",
       "      <td> Liceum Ogólnokształcące Zgromadzenia Córek Boż...</td>\n",
       "      <td> Broniewskiego 13</td>\n",
       "    </tr>\n",
       "    <tr>\n",
       "      <th>21675</th>\n",
       "      <td> Zespół Szkół i Placówek Oświatowych w Bielsku-...</td>\n",
       "      <td>   Słowackiego 45</td>\n",
       "    </tr>\n",
       "    <tr>\n",
       "      <th>21674</th>\n",
       "      <td>                        IV Liceum Ogólnokształcące</td>\n",
       "      <td>   Słowackiego 15</td>\n",
       "    </tr>\n",
       "    <tr>\n",
       "      <th>21673</th>\n",
       "      <td> I Liceum Ogólnokształcące im. Mikołaja Koperni...</td>\n",
       "      <td>   Listopadowa 70</td>\n",
       "    </tr>\n",
       "    <tr>\n",
       "      <th>21681</th>\n",
       "      <td>                      Liceum Ogólnokształcące nr 8</td>\n",
       "      <td>   Konopnickiej 6</td>\n",
       "    </tr>\n",
       "  </tbody>\n",
       "</table>\n",
       "</div>"
      ],
      "text/plain": [
       "                                                nazwa_szkoly             adres\n",
       "id_szkoly                                                                     \n",
       "21687      Liceum Ogólnokształcące Katolickiego Towarzyst...   Krasińskiego 17\n",
       "21686      Liceum Ogólnokształcące Mistrzostwa Sportowego...   Pl. Wolności 10\n",
       "21685         Liceum Ogólnokształcące dla Dorosłych EDUKACJA         3 Maja 31\n",
       "76702      Liceum Ogólnokształcące dla Dorosłych w Bielsk...     Piastowska 21\n",
       "31442      PROFESJA Centrum Kształcenia Kadr Liceum Ogóln...     Barlickiego 5\n",
       "21676      Liceum Ogólnokształcące Zgromadzenia Córek Boż...  Broniewskiego 13\n",
       "21675      Zespół Szkół i Placówek Oświatowych w Bielsku-...    Słowackiego 45\n",
       "21674                             IV Liceum Ogólnokształcące    Słowackiego 15\n",
       "21673      I Liceum Ogólnokształcące im. Mikołaja Koperni...    Listopadowa 70\n",
       "21681                           Liceum Ogólnokształcące nr 8    Konopnickiej 6"
      ]
     },
     "execution_count": 24,
     "metadata": {},
     "output_type": "execute_result"
    }
   ],
   "source": [
    "licea.query(\"miejscowosc == 'Bielsko-Biała'\")[['nazwa_szkoly', 'adres']].head(10)"
   ]
  },
  {
   "cell_type": "code",
   "execution_count": null,
   "metadata": {
    "collapsed": true
   },
   "outputs": [],
   "source": [
    "# uwaga, V LO w BB ma stary adres!"
   ]
  }
 ],
 "metadata": {
  "kernelspec": {
   "display_name": "Python 3",
   "language": "python",
   "name": "python3"
  },
  "language_info": {
   "codemirror_mode": {
    "name": "ipython",
    "version": 3
   },
   "file_extension": ".py",
   "mimetype": "text/x-python",
   "name": "python",
   "nbconvert_exporter": "python",
   "pygments_lexer": "ipython3",
   "version": "3.4.1"
  }
 },
 "nbformat": 4,
 "nbformat_minor": 0
}
